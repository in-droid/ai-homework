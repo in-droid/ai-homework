{
 "cells": [
  {
   "cell_type": "code",
   "execution_count": 1,
   "id": "a9c92a54",
   "metadata": {},
   "outputs": [
    {
     "name": "stdout",
     "output_type": "stream",
     "text": [
      "Loading environment variables...\n",
      "Enviroment vars loaded: True\n"
     ]
    }
   ],
   "source": [
    "import time\n",
    "\n",
    "from tqdm import tqdm\n",
    "import pandas as pd\n",
    "import numpy as np\n",
    "import matplotlib.pyplot as plt\n",
    "import seaborn as sns\n",
    "sns.set_style(\"whitegrid\")\n",
    "\n",
    "from sklearn.metrics import confusion_matrix, ConfusionMatrixDisplay\n",
    "\n",
    "\n",
    "from src.gemini_llm import GeminiLLM\n",
    "from src.utils import wiki_intro\n",
    "from src.utils import train_test_split"
   ]
  },
  {
   "cell_type": "code",
   "execution_count": 2,
   "id": "bb403d1c",
   "metadata": {},
   "outputs": [],
   "source": [
    "model = GeminiLLM(model_name=\"gemini-2.0-flash-lite\", temperature=0)"
   ]
  },
  {
   "cell_type": "code",
   "execution_count": 3,
   "id": "de916bc6",
   "metadata": {},
   "outputs": [
    {
     "data": {
      "text/plain": [
       "'Food drink & tobacco'"
      ]
     },
     "execution_count": 3,
     "metadata": {},
     "output_type": "execute_result"
    }
   ],
   "source": [
    "model.categorize(company_name=\"Altria Group\")"
   ]
  },
  {
   "cell_type": "code",
   "execution_count": 5,
   "id": "7e94066f",
   "metadata": {},
   "outputs": [
    {
     "data": {
      "text/plain": [
       "'Food drink & tobacco'"
      ]
     },
     "execution_count": 5,
     "metadata": {},
     "output_type": "execute_result"
    }
   ],
   "source": [
    "model.categorize_get_description(\n",
    "    company_name=\"Altria Group\",\n",
    "    get_description=wiki_intro\n",
    ")"
   ]
  },
  {
   "cell_type": "code",
   "execution_count": 6,
   "id": "fdcd3ac6",
   "metadata": {},
   "outputs": [
    {
     "name": "stdout",
     "output_type": "stream",
     "text": [
      "[Warning] Response not in categories: Other\n"
     ]
    },
    {
     "data": {
      "text/plain": [
       "'Other'"
      ]
     },
     "execution_count": 6,
     "metadata": {},
     "output_type": "execute_result"
    }
   ],
   "source": [
    "model.categorize(company_name=\"wewaealkedad\")"
   ]
  },
  {
   "cell_type": "markdown",
   "id": "48fa3b6e",
   "metadata": {},
   "source": [
    "Because I have limited API requests for the free plan with Gemini I only got results on the test set. This test set is also used for the other models."
   ]
  },
  {
   "cell_type": "code",
   "execution_count": 6,
   "id": "0e3e28b0",
   "metadata": {},
   "outputs": [],
   "source": [
    "df = pd.read_csv(\"../resources/dataset.csv\")"
   ]
  },
  {
   "cell_type": "code",
   "execution_count": 7,
   "id": "5e783ed3",
   "metadata": {},
   "outputs": [],
   "source": [
    "train_df, test_df = train_test_split(df)"
   ]
  },
  {
   "cell_type": "code",
   "execution_count": 8,
   "id": "a1952417",
   "metadata": {},
   "outputs": [
    {
     "data": {
      "application/vnd.microsoft.datawrangler.viewer.v0+json": {
       "columns": [
        {
         "name": "index",
         "rawType": "int64",
         "type": "integer"
        },
        {
         "name": "COMPANY",
         "rawType": "object",
         "type": "string"
        },
        {
         "name": "CATEGORY",
         "rawType": "object",
         "type": "string"
        }
       ],
       "conversionMethod": "pd.DataFrame",
       "ref": "2e4e0c0a-deda-4018-8f58-71d7c740741a",
       "rows": [
        [
         "568",
         "Pitney Bowes",
         "Business services & supplies"
        ],
        [
         "1603",
         "Nanto Bank",
         "Banking"
        ],
        [
         "1010",
         "Agfa-Gevaert",
         "Household & personal products"
        ],
        [
         "1466",
         "US Commercial",
         "Diversified financials"
        ],
        [
         "968",
         "Computer Associates",
         "Software & services"
        ],
        [
         "218",
         "Bouygues Group",
         "Construction"
        ],
        [
         "951",
         "Corporation Mapfre",
         "Insurance"
        ],
        [
         "1968",
         "Hellenic Petroleum",
         "Oil & gas operations"
        ],
        [
         "1101",
         "OPAP",
         "Hotels restaurants & leisure"
        ],
        [
         "1396",
         "Crown Holdings",
         "Materials"
        ],
        [
         "1650",
         "SembCorp Industries",
         "Capital goods"
        ],
        [
         "549",
         "Lennar",
         "Construction"
        ],
        [
         "745",
         "Yapi ve Kredi",
         "Banking"
        ],
        [
         "932",
         "Swatch Group",
         "Household & personal products"
        ],
        [
         "5",
         "Bank of America",
         "Banking"
        ],
        [
         "422",
         "Itochu",
         "Trading companies"
        ],
        [
         "1447",
         "Ono Pharmaceutical",
         "Drugs & biotechnology"
        ],
        [
         "37",
         "ConocoPhillips",
         "Oil & gas operations"
        ],
        [
         "1175",
         "Xilinx",
         "Semiconductors"
        ],
        [
         "226",
         "Chubb",
         "Insurance"
        ],
        [
         "400",
         "Alliance & Leicester",
         "Banking"
        ],
        [
         "571",
         "Vattenfall Europe",
         "Utilities"
        ],
        [
         "70",
         "Volkswagen Group",
         "Consumer durables"
        ],
        [
         "1962",
         "Laurentian Bank",
         "Banking"
        ],
        [
         "69",
         "Comcast",
         "Media"
        ],
        [
         "1335",
         "Smithfield Foods",
         "Food drink & tobacco"
        ],
        [
         "754",
         "MTR",
         "Transportation"
        ],
        [
         "1246",
         "Charter Commun",
         "Media"
        ],
        [
         "1034",
         "Nippon Mining",
         "Oil & gas operations"
        ],
        [
         "900",
         "Sanmina-SCI",
         "Technology hardware & equipment"
        ],
        [
         "1519",
         "Kawasho",
         "Trading companies"
        ],
        [
         "843",
         "Unipol",
         "Insurance"
        ],
        [
         "8",
         "Fannie Mae",
         "Diversified financials"
        ],
        [
         "1435",
         "Sacyr-Vallehermoso",
         "Diversified financials"
        ],
        [
         "506",
         "Campbell Soup",
         "Food drink & tobacco"
        ],
        [
         "1324",
         "Banca Popolare di Lodi",
         "Banking"
        ],
        [
         "1571",
         "Maytag",
         "Consumer durables"
        ],
        [
         "1909",
         "Higashi-Nippon Bank",
         "Banking"
        ],
        [
         "1985",
         "Bank of Ryukyus",
         "Banking"
        ],
        [
         "1025",
         "Oriental Land",
         "Media"
        ],
        [
         "729",
         "Ebay",
         "Retailing"
        ],
        [
         "461",
         "ABB Group",
         "Capital goods"
        ],
        [
         "1074",
         "Iberia",
         "Transportation"
        ],
        [
         "1462",
         "SEM-Samsung Electro",
         "Technology hardware & equipment"
        ],
        [
         "970",
         "Daikin Industries",
         "Capital goods"
        ],
        [
         "1594",
         "Singapore Technologies",
         "Aerospace & defense"
        ],
        [
         "213",
         "Marathon Oil",
         "Oil & gas operations"
        ],
        [
         "811",
         "Friends Provident",
         "Insurance"
        ],
        [
         "1426",
         "Amadeus Global Travel",
         "Business services & supplies"
        ],
        [
         "1412",
         "Kawasaki Kisen Kaisha",
         "Transportation"
        ]
       ],
       "shape": {
        "columns": 2,
        "rows": 500
       }
      },
      "text/html": [
       "<div>\n",
       "<style scoped>\n",
       "    .dataframe tbody tr th:only-of-type {\n",
       "        vertical-align: middle;\n",
       "    }\n",
       "\n",
       "    .dataframe tbody tr th {\n",
       "        vertical-align: top;\n",
       "    }\n",
       "\n",
       "    .dataframe thead th {\n",
       "        text-align: right;\n",
       "    }\n",
       "</style>\n",
       "<table border=\"1\" class=\"dataframe\">\n",
       "  <thead>\n",
       "    <tr style=\"text-align: right;\">\n",
       "      <th></th>\n",
       "      <th>COMPANY</th>\n",
       "      <th>CATEGORY</th>\n",
       "    </tr>\n",
       "  </thead>\n",
       "  <tbody>\n",
       "    <tr>\n",
       "      <th>568</th>\n",
       "      <td>Pitney Bowes</td>\n",
       "      <td>Business services &amp; supplies</td>\n",
       "    </tr>\n",
       "    <tr>\n",
       "      <th>1603</th>\n",
       "      <td>Nanto Bank</td>\n",
       "      <td>Banking</td>\n",
       "    </tr>\n",
       "    <tr>\n",
       "      <th>1010</th>\n",
       "      <td>Agfa-Gevaert</td>\n",
       "      <td>Household &amp; personal products</td>\n",
       "    </tr>\n",
       "    <tr>\n",
       "      <th>1466</th>\n",
       "      <td>US Commercial</td>\n",
       "      <td>Diversified financials</td>\n",
       "    </tr>\n",
       "    <tr>\n",
       "      <th>968</th>\n",
       "      <td>Computer Associates</td>\n",
       "      <td>Software &amp; services</td>\n",
       "    </tr>\n",
       "    <tr>\n",
       "      <th>...</th>\n",
       "      <td>...</td>\n",
       "      <td>...</td>\n",
       "    </tr>\n",
       "    <tr>\n",
       "      <th>1433</th>\n",
       "      <td>Tiffany</td>\n",
       "      <td>Retailing</td>\n",
       "    </tr>\n",
       "    <tr>\n",
       "      <th>697</th>\n",
       "      <td>Murata Manufacturing</td>\n",
       "      <td>Business services &amp; supplies</td>\n",
       "    </tr>\n",
       "    <tr>\n",
       "      <th>139</th>\n",
       "      <td>Cendant</td>\n",
       "      <td>Hotels restaurants &amp; leisure</td>\n",
       "    </tr>\n",
       "    <tr>\n",
       "      <th>1212</th>\n",
       "      <td>Canadian Tire</td>\n",
       "      <td>Retailing</td>\n",
       "    </tr>\n",
       "    <tr>\n",
       "      <th>1987</th>\n",
       "      <td>Haseko</td>\n",
       "      <td>Construction</td>\n",
       "    </tr>\n",
       "  </tbody>\n",
       "</table>\n",
       "<p>500 rows × 2 columns</p>\n",
       "</div>"
      ],
      "text/plain": [
       "                   COMPANY                       CATEGORY\n",
       "568           Pitney Bowes   Business services & supplies\n",
       "1603            Nanto Bank                        Banking\n",
       "1010          Agfa-Gevaert  Household & personal products\n",
       "1466         US Commercial         Diversified financials\n",
       "968    Computer Associates            Software & services\n",
       "...                    ...                            ...\n",
       "1433               Tiffany                      Retailing\n",
       "697   Murata Manufacturing   Business services & supplies\n",
       "139                Cendant   Hotels restaurants & leisure\n",
       "1212         Canadian Tire                      Retailing\n",
       "1987                Haseko                   Construction\n",
       "\n",
       "[500 rows x 2 columns]"
      ]
     },
     "execution_count": 8,
     "metadata": {},
     "output_type": "execute_result"
    }
   ],
   "source": [
    "test_df"
   ]
  },
  {
   "cell_type": "markdown",
   "id": "ed641270",
   "metadata": {},
   "source": [
    "A workaround for the rate limits of the Free tier Gemini API."
   ]
  },
  {
   "cell_type": "code",
   "execution_count": 9,
   "id": "cb437564",
   "metadata": {},
   "outputs": [],
   "source": [
    "def safe_llm_call(company_name, model, get_description, max_retries=5):\n",
    "    for attempt in range(max_retries):\n",
    "        try:\n",
    "            if get_description:\n",
    "             return  model.categorize_get_description(\n",
    "                        company_name=company_name,\n",
    "                        get_description=wiki_intro\n",
    "                )\n",
    "            \n",
    "            return model.categorize(company_name=company_name)\n",
    "            \n",
    "        except Exception as e:\n",
    "            if \"ResourceExhausted\" in str(e) or \"quota\" in str(e).lower():\n",
    "                wait_time = 60\n",
    "                print(f\"Rate limit hit. Retrying in {wait_time:.1f}s (attempt {attempt+1}/{max_retries})...\")\n",
    "                time.sleep(wait_time)\n",
    "            else:\n",
    "                print(f\"Error with {company_name}: {e}\")\n",
    "                return \"n/a\"\n",
    "    print(f\"Max retries exceeded for {company_name}. Returning 'n/a'.\")\n",
    "    return \"n/a\""
   ]
  },
  {
   "cell_type": "code",
   "execution_count": 10,
   "id": "34d3e01e",
   "metadata": {},
   "outputs": [
    {
     "data": {
      "text/plain": [
       "'Food drink & tobacco'"
      ]
     },
     "execution_count": 10,
     "metadata": {},
     "output_type": "execute_result"
    }
   ],
   "source": [
    "safe_llm_call(\"Altria Group\", model, get_description=True)"
   ]
  },
  {
   "cell_type": "code",
   "execution_count": 12,
   "id": "0f904701",
   "metadata": {},
   "outputs": [
    {
     "name": "stderr",
     "output_type": "stream",
     "text": [
      "  1%|          | 4/500 [00:01<03:27,  2.39it/s]"
     ]
    },
    {
     "name": "stdout",
     "output_type": "stream",
     "text": [
      "[Warning] Response not in categories: Other\n"
     ]
    },
    {
     "name": "stderr",
     "output_type": "stream",
     "text": [
      "  6%|▌         | 31/500 [00:14<03:10,  2.46it/s]Retrying langchain_google_genai.chat_models._chat_with_retry.<locals>._chat_with_retry in 2.0 seconds as it raised ResourceExhausted: 429 You exceeded your current quota, please check your plan and billing details. For more information on this error, head to: https://ai.google.dev/gemini-api/docs/rate-limits. [violations {\n",
      "  quota_metric: \"generativelanguage.googleapis.com/generate_content_free_tier_requests\"\n",
      "  quota_id: \"GenerateRequestsPerMinutePerProjectPerModel-FreeTier\"\n",
      "  quota_dimensions {\n",
      "    key: \"model\"\n",
      "    value: \"gemini-2.0-flash-lite\"\n",
      "  }\n",
      "  quota_dimensions {\n",
      "    key: \"location\"\n",
      "    value: \"global\"\n",
      "  }\n",
      "  quota_value: 30\n",
      "}\n",
      ", links {\n",
      "  description: \"Learn more about Gemini API quotas\"\n",
      "  url: \"https://ai.google.dev/gemini-api/docs/rate-limits\"\n",
      "}\n",
      ", retry_delay {\n",
      "  seconds: 41\n",
      "}\n",
      "].\n"
     ]
    },
    {
     "name": "stdout",
     "output_type": "stream",
     "text": [
      "Rate limit hit. Retrying in 60.0s (attempt 1/5)...\n"
     ]
    },
    {
     "name": "stderr",
     "output_type": "stream",
     "text": [
      " 10%|█         | 52/500 [01:25<03:15,  2.29it/s]  "
     ]
    },
    {
     "name": "stdout",
     "output_type": "stream",
     "text": [
      "[Warning] Response not in categories: Other\n"
     ]
    },
    {
     "name": "stderr",
     "output_type": "stream",
     "text": [
      " 12%|█▏        | 59/500 [01:28<03:03,  2.41it/s]"
     ]
    },
    {
     "name": "stdout",
     "output_type": "stream",
     "text": [
      "[Warning] Response not in categories: Other\n"
     ]
    },
    {
     "name": "stderr",
     "output_type": "stream",
     "text": [
      " 12%|█▏        | 62/500 [01:29<03:03,  2.38it/s]Retrying langchain_google_genai.chat_models._chat_with_retry.<locals>._chat_with_retry in 2.0 seconds as it raised ResourceExhausted: 429 You exceeded your current quota, please check your plan and billing details. For more information on this error, head to: https://ai.google.dev/gemini-api/docs/rate-limits. [violations {\n",
      "  quota_metric: \"generativelanguage.googleapis.com/generate_content_free_tier_requests\"\n",
      "  quota_id: \"GenerateRequestsPerMinutePerProjectPerModel-FreeTier\"\n",
      "  quota_dimensions {\n",
      "    key: \"model\"\n",
      "    value: \"gemini-2.0-flash-lite\"\n",
      "  }\n",
      "  quota_dimensions {\n",
      "    key: \"location\"\n",
      "    value: \"global\"\n",
      "  }\n",
      "  quota_value: 30\n",
      "}\n",
      ", links {\n",
      "  description: \"Learn more about Gemini API quotas\"\n",
      "  url: \"https://ai.google.dev/gemini-api/docs/rate-limits\"\n",
      "}\n",
      ", retry_delay {\n",
      "  seconds: 25\n",
      "}\n",
      "].\n"
     ]
    },
    {
     "name": "stdout",
     "output_type": "stream",
     "text": [
      "Rate limit hit. Retrying in 60.0s (attempt 1/5)...\n"
     ]
    },
    {
     "name": "stderr",
     "output_type": "stream",
     "text": [
      " 14%|█▍        | 69/500 [02:35<19:01,  2.65s/it]  "
     ]
    },
    {
     "name": "stdout",
     "output_type": "stream",
     "text": [
      "[Warning] Response not in categories: Real Estate\n"
     ]
    },
    {
     "name": "stderr",
     "output_type": "stream",
     "text": [
      " 22%|██▏       | 108/500 [02:52<02:53,  2.25it/s]"
     ]
    },
    {
     "name": "stdout",
     "output_type": "stream",
     "text": [
      "[Warning] Response not in categories: Other\n"
     ]
    },
    {
     "name": "stderr",
     "output_type": "stream",
     "text": [
      " 24%|██▍       | 120/500 [02:58<03:01,  2.10it/s]"
     ]
    },
    {
     "name": "stdout",
     "output_type": "stream",
     "text": [
      "[Warning] Response not in categories: Other\n"
     ]
    },
    {
     "name": "stderr",
     "output_type": "stream",
     "text": [
      " 25%|██▍       | 123/500 [02:59<02:43,  2.31it/s]Retrying langchain_google_genai.chat_models._chat_with_retry.<locals>._chat_with_retry in 2.0 seconds as it raised ResourceExhausted: 429 You exceeded your current quota, please check your plan and billing details. For more information on this error, head to: https://ai.google.dev/gemini-api/docs/rate-limits. [violations {\n",
      "  quota_metric: \"generativelanguage.googleapis.com/generate_content_free_tier_requests\"\n",
      "  quota_id: \"GenerateRequestsPerMinutePerProjectPerModel-FreeTier\"\n",
      "  quota_dimensions {\n",
      "    key: \"model\"\n",
      "    value: \"gemini-2.0-flash-lite\"\n",
      "  }\n",
      "  quota_dimensions {\n",
      "    key: \"location\"\n",
      "    value: \"global\"\n",
      "  }\n",
      "  quota_value: 30\n",
      "}\n",
      ", links {\n",
      "  description: \"Learn more about Gemini API quotas\"\n",
      "  url: \"https://ai.google.dev/gemini-api/docs/rate-limits\"\n",
      "}\n",
      ", retry_delay {\n",
      "  seconds: 56\n",
      "}\n",
      "].\n"
     ]
    },
    {
     "name": "stdout",
     "output_type": "stream",
     "text": [
      "Rate limit hit. Retrying in 60.0s (attempt 1/5)...\n"
     ]
    },
    {
     "name": "stderr",
     "output_type": "stream",
     "text": [
      " 26%|██▌       | 129/500 [04:03<21:55,  3.55s/it]  "
     ]
    },
    {
     "name": "stdout",
     "output_type": "stream",
     "text": [
      "[Warning] Response not in categories: Other\n"
     ]
    },
    {
     "name": "stderr",
     "output_type": "stream",
     "text": [
      " 29%|██▉       | 145/500 [04:11<02:43,  2.17it/s]"
     ]
    },
    {
     "name": "stdout",
     "output_type": "stream",
     "text": [
      "[Warning] Response not in categories: Other\n"
     ]
    },
    {
     "name": "stderr",
     "output_type": "stream",
     "text": [
      " 30%|██▉       | 149/500 [04:12<02:37,  2.24it/s]"
     ]
    },
    {
     "name": "stdout",
     "output_type": "stream",
     "text": [
      "[Warning] Response not in categories: Real estate\n"
     ]
    },
    {
     "name": "stderr",
     "output_type": "stream",
     "text": [
      " 31%|███       | 154/500 [04:15<02:23,  2.40it/s]Retrying langchain_google_genai.chat_models._chat_with_retry.<locals>._chat_with_retry in 2.0 seconds as it raised ResourceExhausted: 429 You exceeded your current quota, please check your plan and billing details. For more information on this error, head to: https://ai.google.dev/gemini-api/docs/rate-limits. [violations {\n",
      "  quota_metric: \"generativelanguage.googleapis.com/generate_content_free_tier_requests\"\n",
      "  quota_id: \"GenerateRequestsPerMinutePerProjectPerModel-FreeTier\"\n",
      "  quota_dimensions {\n",
      "    key: \"model\"\n",
      "    value: \"gemini-2.0-flash-lite\"\n",
      "  }\n",
      "  quota_dimensions {\n",
      "    key: \"location\"\n",
      "    value: \"global\"\n",
      "  }\n",
      "  quota_value: 30\n",
      "}\n",
      ", links {\n",
      "  description: \"Learn more about Gemini API quotas\"\n",
      "  url: \"https://ai.google.dev/gemini-api/docs/rate-limits\"\n",
      "}\n",
      ", retry_delay {\n",
      "  seconds: 40\n",
      "}\n",
      "].\n"
     ]
    },
    {
     "name": "stdout",
     "output_type": "stream",
     "text": [
      "Rate limit hit. Retrying in 60.0s (attempt 1/5)...\n"
     ]
    },
    {
     "name": "stderr",
     "output_type": "stream",
     "text": [
      " 34%|███▍      | 171/500 [05:24<02:44,  2.00it/s]  "
     ]
    },
    {
     "name": "stdout",
     "output_type": "stream",
     "text": [
      "[Warning] Response not in categories: Other\n"
     ]
    },
    {
     "name": "stderr",
     "output_type": "stream",
     "text": [
      " 37%|███▋      | 185/500 [05:30<02:15,  2.33it/s]Retrying langchain_google_genai.chat_models._chat_with_retry.<locals>._chat_with_retry in 2.0 seconds as it raised ResourceExhausted: 429 You exceeded your current quota, please check your plan and billing details. For more information on this error, head to: https://ai.google.dev/gemini-api/docs/rate-limits. [violations {\n",
      "  quota_metric: \"generativelanguage.googleapis.com/generate_content_free_tier_requests\"\n",
      "  quota_id: \"GenerateRequestsPerMinutePerProjectPerModel-FreeTier\"\n",
      "  quota_dimensions {\n",
      "    key: \"model\"\n",
      "    value: \"gemini-2.0-flash-lite\"\n",
      "  }\n",
      "  quota_dimensions {\n",
      "    key: \"location\"\n",
      "    value: \"global\"\n",
      "  }\n",
      "  quota_value: 30\n",
      "}\n",
      ", links {\n",
      "  description: \"Learn more about Gemini API quotas\"\n",
      "  url: \"https://ai.google.dev/gemini-api/docs/rate-limits\"\n",
      "}\n",
      ", retry_delay {\n",
      "  seconds: 25\n",
      "}\n",
      "].\n"
     ]
    },
    {
     "name": "stdout",
     "output_type": "stream",
     "text": [
      "Rate limit hit. Retrying in 60.0s (attempt 1/5)...\n"
     ]
    },
    {
     "name": "stderr",
     "output_type": "stream",
     "text": [
      " 48%|████▊     | 240/500 [06:59<02:00,  2.16it/s]  Retrying langchain_google_genai.chat_models._chat_with_retry.<locals>._chat_with_retry in 2.0 seconds as it raised ResourceExhausted: 429 You exceeded your current quota, please check your plan and billing details. For more information on this error, head to: https://ai.google.dev/gemini-api/docs/rate-limits. [violations {\n",
      "  quota_metric: \"generativelanguage.googleapis.com/generate_content_free_tier_requests\"\n",
      "  quota_id: \"GenerateRequestsPerMinutePerProjectPerModel-FreeTier\"\n",
      "  quota_dimensions {\n",
      "    key: \"model\"\n",
      "    value: \"gemini-2.0-flash-lite\"\n",
      "  }\n",
      "  quota_dimensions {\n",
      "    key: \"location\"\n",
      "    value: \"global\"\n",
      "  }\n",
      "  quota_value: 30\n",
      "}\n",
      ", links {\n",
      "  description: \"Learn more about Gemini API quotas\"\n",
      "  url: \"https://ai.google.dev/gemini-api/docs/rate-limits\"\n",
      "}\n",
      ", retry_delay {\n",
      "  seconds: 56\n",
      "}\n",
      "].\n"
     ]
    },
    {
     "name": "stdout",
     "output_type": "stream",
     "text": [
      "Rate limit hit. Retrying in 60.0s (attempt 1/5)...\n"
     ]
    },
    {
     "name": "stderr",
     "output_type": "stream",
     "text": [
      " 48%|████▊     | 242/500 [08:02<58:01, 13.49s/it]  "
     ]
    },
    {
     "name": "stdout",
     "output_type": "stream",
     "text": [
      "[Warning] Response not in categories: Other\n"
     ]
    },
    {
     "name": "stderr",
     "output_type": "stream",
     "text": [
      " 54%|█████▍    | 271/500 [08:14<01:36,  2.37it/s]Retrying langchain_google_genai.chat_models._chat_with_retry.<locals>._chat_with_retry in 2.0 seconds as it raised ResourceExhausted: 429 You exceeded your current quota, please check your plan and billing details. For more information on this error, head to: https://ai.google.dev/gemini-api/docs/rate-limits. [violations {\n",
      "  quota_metric: \"generativelanguage.googleapis.com/generate_content_free_tier_requests\"\n",
      "  quota_id: \"GenerateRequestsPerMinutePerProjectPerModel-FreeTier\"\n",
      "  quota_dimensions {\n",
      "    key: \"model\"\n",
      "    value: \"gemini-2.0-flash-lite\"\n",
      "  }\n",
      "  quota_dimensions {\n",
      "    key: \"location\"\n",
      "    value: \"global\"\n",
      "  }\n",
      "  quota_value: 30\n",
      "}\n",
      ", links {\n",
      "  description: \"Learn more about Gemini API quotas\"\n",
      "  url: \"https://ai.google.dev/gemini-api/docs/rate-limits\"\n",
      "}\n",
      ", retry_delay {\n",
      "  seconds: 40\n",
      "}\n",
      "].\n"
     ]
    },
    {
     "name": "stdout",
     "output_type": "stream",
     "text": [
      "Rate limit hit. Retrying in 60.0s (attempt 1/5)...\n"
     ]
    },
    {
     "name": "stderr",
     "output_type": "stream",
     "text": [
      " 54%|█████▍    | 272/500 [09:17<1:12:20, 19.04s/it]"
     ]
    },
    {
     "name": "stdout",
     "output_type": "stream",
     "text": [
      "[Warning] Response not in categories: Other\n"
     ]
    },
    {
     "name": "stderr",
     "output_type": "stream",
     "text": [
      " 56%|█████▌    | 280/500 [09:21<05:36,  1.53s/it]  "
     ]
    },
    {
     "name": "stdout",
     "output_type": "stream",
     "text": [
      "[Warning] Response not in categories: Other\n"
     ]
    },
    {
     "name": "stderr",
     "output_type": "stream",
     "text": [
      " 57%|█████▋    | 283/500 [09:22<02:59,  1.21it/s]"
     ]
    },
    {
     "name": "stdout",
     "output_type": "stream",
     "text": [
      "[Warning] Response not in categories: Other\n"
     ]
    },
    {
     "name": "stderr",
     "output_type": "stream",
     "text": [
      " 60%|██████    | 302/500 [09:30<01:23,  2.37it/s]Retrying langchain_google_genai.chat_models._chat_with_retry.<locals>._chat_with_retry in 2.0 seconds as it raised ResourceExhausted: 429 You exceeded your current quota, please check your plan and billing details. For more information on this error, head to: https://ai.google.dev/gemini-api/docs/rate-limits. [violations {\n",
      "  quota_metric: \"generativelanguage.googleapis.com/generate_content_free_tier_requests\"\n",
      "  quota_id: \"GenerateRequestsPerMinutePerProjectPerModel-FreeTier\"\n",
      "  quota_dimensions {\n",
      "    key: \"model\"\n",
      "    value: \"gemini-2.0-flash-lite\"\n",
      "  }\n",
      "  quota_dimensions {\n",
      "    key: \"location\"\n",
      "    value: \"global\"\n",
      "  }\n",
      "  quota_value: 30\n",
      "}\n",
      ", links {\n",
      "  description: \"Learn more about Gemini API quotas\"\n",
      "  url: \"https://ai.google.dev/gemini-api/docs/rate-limits\"\n",
      "}\n",
      ", retry_delay {\n",
      "  seconds: 25\n",
      "}\n",
      "].\n"
     ]
    },
    {
     "name": "stdout",
     "output_type": "stream",
     "text": [
      "Rate limit hit. Retrying in 60.0s (attempt 1/5)...\n"
     ]
    },
    {
     "name": "stderr",
     "output_type": "stream",
     "text": [
      " 63%|██████▎   | 315/500 [10:38<02:21,  1.31it/s]  "
     ]
    },
    {
     "name": "stdout",
     "output_type": "stream",
     "text": [
      "[Warning] Response not in categories: Other\n"
     ]
    },
    {
     "name": "stderr",
     "output_type": "stream",
     "text": [
      " 66%|██████▌   | 328/500 [10:44<01:11,  2.41it/s]"
     ]
    },
    {
     "name": "stdout",
     "output_type": "stream",
     "text": [
      "[Warning] Response not in categories: Other\n"
     ]
    },
    {
     "name": "stderr",
     "output_type": "stream",
     "text": [
      " 68%|██████▊   | 338/500 [10:48<01:06,  2.42it/s]"
     ]
    },
    {
     "name": "stdout",
     "output_type": "stream",
     "text": [
      "[Warning] Response not in categories: Other\n"
     ]
    },
    {
     "name": "stderr",
     "output_type": "stream",
     "text": [
      " 70%|███████   | 350/500 [10:53<01:05,  2.29it/s]"
     ]
    },
    {
     "name": "stdout",
     "output_type": "stream",
     "text": [
      "[Warning] Response not in categories: Other\n"
     ]
    },
    {
     "name": "stderr",
     "output_type": "stream",
     "text": [
      " 72%|███████▏  | 361/500 [10:58<01:01,  2.27it/s]Retrying langchain_google_genai.chat_models._chat_with_retry.<locals>._chat_with_retry in 2.0 seconds as it raised ResourceExhausted: 429 You exceeded your current quota, please check your plan and billing details. For more information on this error, head to: https://ai.google.dev/gemini-api/docs/rate-limits. [violations {\n",
      "  quota_metric: \"generativelanguage.googleapis.com/generate_content_free_tier_requests\"\n",
      "  quota_id: \"GenerateRequestsPerMinutePerProjectPerModel-FreeTier\"\n",
      "  quota_dimensions {\n",
      "    key: \"model\"\n",
      "    value: \"gemini-2.0-flash-lite\"\n",
      "  }\n",
      "  quota_dimensions {\n",
      "    key: \"location\"\n",
      "    value: \"global\"\n",
      "  }\n",
      "  quota_value: 30\n",
      "}\n",
      ", links {\n",
      "  description: \"Learn more about Gemini API quotas\"\n",
      "  url: \"https://ai.google.dev/gemini-api/docs/rate-limits\"\n",
      "}\n",
      ", retry_delay {\n",
      "  seconds: 57\n",
      "}\n",
      "].\n"
     ]
    },
    {
     "name": "stdout",
     "output_type": "stream",
     "text": [
      "Rate limit hit. Retrying in 60.0s (attempt 1/5)...\n"
     ]
    },
    {
     "name": "stderr",
     "output_type": "stream",
     "text": [
      " 73%|███████▎  | 367/500 [12:02<07:50,  3.54s/it]"
     ]
    },
    {
     "name": "stdout",
     "output_type": "stream",
     "text": [
      "[Warning] Response not in categories: Other\n"
     ]
    },
    {
     "name": "stderr",
     "output_type": "stream",
     "text": [
      " 76%|███████▌  | 379/500 [12:08<01:03,  1.89it/s]"
     ]
    },
    {
     "name": "stdout",
     "output_type": "stream",
     "text": [
      "[Warning] Response not in categories: Other\n"
     ]
    },
    {
     "name": "stderr",
     "output_type": "stream",
     "text": [
      " 78%|███████▊  | 392/500 [12:14<00:51,  2.10it/s]Retrying langchain_google_genai.chat_models._chat_with_retry.<locals>._chat_with_retry in 2.0 seconds as it raised ResourceExhausted: 429 You exceeded your current quota, please check your plan and billing details. For more information on this error, head to: https://ai.google.dev/gemini-api/docs/rate-limits. [violations {\n",
      "  quota_metric: \"generativelanguage.googleapis.com/generate_content_free_tier_requests\"\n",
      "  quota_id: \"GenerateRequestsPerMinutePerProjectPerModel-FreeTier\"\n",
      "  quota_dimensions {\n",
      "    key: \"model\"\n",
      "    value: \"gemini-2.0-flash-lite\"\n",
      "  }\n",
      "  quota_dimensions {\n",
      "    key: \"location\"\n",
      "    value: \"global\"\n",
      "  }\n",
      "  quota_value: 30\n",
      "}\n",
      ", links {\n",
      "  description: \"Learn more about Gemini API quotas\"\n",
      "  url: \"https://ai.google.dev/gemini-api/docs/rate-limits\"\n",
      "}\n",
      ", retry_delay {\n",
      "  seconds: 41\n",
      "}\n",
      "].\n"
     ]
    },
    {
     "name": "stdout",
     "output_type": "stream",
     "text": [
      "Rate limit hit. Retrying in 60.0s (attempt 1/5)...\n"
     ]
    },
    {
     "name": "stderr",
     "output_type": "stream",
     "text": [
      " 79%|███████▉  | 396/500 [13:18<11:54,  6.87s/it]"
     ]
    },
    {
     "name": "stdout",
     "output_type": "stream",
     "text": [
      "[Warning] Response not in categories: Other\n"
     ]
    },
    {
     "name": "stderr",
     "output_type": "stream",
     "text": [
      " 83%|████████▎ | 415/500 [13:26<00:39,  2.15it/s]"
     ]
    },
    {
     "name": "stdout",
     "output_type": "stream",
     "text": [
      "[Warning] Response not in categories: Other\n"
     ]
    },
    {
     "name": "stderr",
     "output_type": "stream",
     "text": [
      " 85%|████████▍ | 423/500 [13:30<00:32,  2.34it/s]Retrying langchain_google_genai.chat_models._chat_with_retry.<locals>._chat_with_retry in 2.0 seconds as it raised ResourceExhausted: 429 You exceeded your current quota, please check your plan and billing details. For more information on this error, head to: https://ai.google.dev/gemini-api/docs/rate-limits. [violations {\n",
      "  quota_metric: \"generativelanguage.googleapis.com/generate_content_free_tier_requests\"\n",
      "  quota_id: \"GenerateRequestsPerMinutePerProjectPerModel-FreeTier\"\n",
      "  quota_dimensions {\n",
      "    key: \"model\"\n",
      "    value: \"gemini-2.0-flash-lite\"\n",
      "  }\n",
      "  quota_dimensions {\n",
      "    key: \"location\"\n",
      "    value: \"global\"\n",
      "  }\n",
      "  quota_value: 30\n",
      "}\n",
      ", links {\n",
      "  description: \"Learn more about Gemini API quotas\"\n",
      "  url: \"https://ai.google.dev/gemini-api/docs/rate-limits\"\n",
      "}\n",
      ", retry_delay {\n",
      "  seconds: 25\n",
      "}\n",
      "].\n"
     ]
    },
    {
     "name": "stdout",
     "output_type": "stream",
     "text": [
      "Rate limit hit. Retrying in 60.0s (attempt 1/5)...\n"
     ]
    },
    {
     "name": "stderr",
     "output_type": "stream",
     "text": [
      " 85%|████████▌ | 427/500 [14:34<08:22,  6.89s/it]"
     ]
    },
    {
     "name": "stdout",
     "output_type": "stream",
     "text": [
      "[Warning] Response not in categories: Other\n"
     ]
    },
    {
     "name": "stderr",
     "output_type": "stream",
     "text": [
      " 96%|█████████▌| 480/500 [14:59<00:09,  2.19it/s]Retrying langchain_google_genai.chat_models._chat_with_retry.<locals>._chat_with_retry in 2.0 seconds as it raised ResourceExhausted: 429 You exceeded your current quota, please check your plan and billing details. For more information on this error, head to: https://ai.google.dev/gemini-api/docs/rate-limits. [violations {\n",
      "  quota_metric: \"generativelanguage.googleapis.com/generate_content_free_tier_requests\"\n",
      "  quota_id: \"GenerateRequestsPerMinutePerProjectPerModel-FreeTier\"\n",
      "  quota_dimensions {\n",
      "    key: \"model\"\n",
      "    value: \"gemini-2.0-flash-lite\"\n",
      "  }\n",
      "  quota_dimensions {\n",
      "    key: \"location\"\n",
      "    value: \"global\"\n",
      "  }\n",
      "  quota_value: 30\n",
      "}\n",
      ", links {\n",
      "  description: \"Learn more about Gemini API quotas\"\n",
      "  url: \"https://ai.google.dev/gemini-api/docs/rate-limits\"\n",
      "}\n",
      ", retry_delay {\n",
      "  seconds: 56\n",
      "}\n",
      "].\n"
     ]
    },
    {
     "name": "stdout",
     "output_type": "stream",
     "text": [
      "Rate limit hit. Retrying in 60.0s (attempt 1/5)...\n"
     ]
    },
    {
     "name": "stderr",
     "output_type": "stream",
     "text": [
      "100%|█████████▉| 498/500 [16:10<00:01,  1.90it/s]"
     ]
    },
    {
     "name": "stdout",
     "output_type": "stream",
     "text": [
      "[Warning] Response not in categories: Other\n"
     ]
    },
    {
     "name": "stderr",
     "output_type": "stream",
     "text": [
      "100%|██████████| 500/500 [16:10<00:00,  1.94s/it]\n"
     ]
    }
   ],
   "source": [
    "result_no_description = []\n",
    "for name in tqdm(test_df[\"COMPANY\"]):\n",
    "    result_no_description.append(\n",
    "        safe_llm_call(name, model, get_description=False)\n",
    "    )"
   ]
  },
  {
   "cell_type": "code",
   "execution_count": 13,
   "id": "a56c1c7b",
   "metadata": {},
   "outputs": [
    {
     "data": {
      "text/plain": [
       "500"
      ]
     },
     "execution_count": 13,
     "metadata": {},
     "output_type": "execute_result"
    }
   ],
   "source": [
    "len(result_no_description)"
   ]
  },
  {
   "cell_type": "code",
   "execution_count": 15,
   "id": "7b5199fd",
   "metadata": {},
   "outputs": [],
   "source": [
    "test_df['PRED_CATEGORY_NO_DESC'] = result_no_description"
   ]
  },
  {
   "cell_type": "code",
   "execution_count": 17,
   "id": "0d4c5f9a",
   "metadata": {},
   "outputs": [
    {
     "data": {
      "text/plain": [
       "0.776"
      ]
     },
     "execution_count": 17,
     "metadata": {},
     "output_type": "execute_result"
    }
   ],
   "source": [
    "np.mean(test_df['PRED_CATEGORY_NO_DESC'] == test_df['CATEGORY'])"
   ]
  },
  {
   "cell_type": "code",
   "execution_count": null,
   "id": "24654cd7",
   "metadata": {},
   "outputs": [],
   "source": [
    "df.to_csv(\"../resources/dataset_with_predictions.csv\", index=False)\n",
    "# in case of crash"
   ]
  },
  {
   "cell_type": "code",
   "execution_count": 19,
   "id": "bc9f77dd",
   "metadata": {},
   "outputs": [
    {
     "name": "stderr",
     "output_type": "stream",
     "text": [
      "  0%|          | 2/500 [00:01<06:19,  1.31it/s]"
     ]
    },
    {
     "name": "stdout",
     "output_type": "stream",
     "text": [
      "[Fallback] Searching for: Agfa-Gevaert\n"
     ]
    },
    {
     "name": "stderr",
     "output_type": "stream",
     "text": [
      "  1%|          | 3/500 [00:02<08:27,  1.02s/it]"
     ]
    },
    {
     "name": "stdout",
     "output_type": "stream",
     "text": [
      "[Fallback] Searching for: US Commercial\n"
     ]
    },
    {
     "name": "stderr",
     "output_type": "stream",
     "text": [
      "  1%|          | 5/500 [00:05<08:19,  1.01s/it]"
     ]
    },
    {
     "name": "stdout",
     "output_type": "stream",
     "text": [
      "[Fallback] Searching for: Bouygues Group\n"
     ]
    },
    {
     "name": "stderr",
     "output_type": "stream",
     "text": [
      "  1%|          | 6/500 [00:06<09:14,  1.12s/it]"
     ]
    },
    {
     "name": "stdout",
     "output_type": "stream",
     "text": [
      "[Fallback] Searching for: Corporation Mapfre\n"
     ]
    },
    {
     "name": "stderr",
     "output_type": "stream",
     "text": [
      "  2%|▏         | 12/500 [00:11<06:42,  1.21it/s]"
     ]
    },
    {
     "name": "stdout",
     "output_type": "stream",
     "text": [
      "[Fallback] Searching for: Yapi ve Kredi\n"
     ]
    },
    {
     "name": "stderr",
     "output_type": "stream",
     "text": [
      "  5%|▌         | 27/500 [00:24<06:14,  1.26it/s]"
     ]
    },
    {
     "name": "stdout",
     "output_type": "stream",
     "text": [
      "[Fallback] Searching for: Charter Commun\n"
     ]
    },
    {
     "name": "stderr",
     "output_type": "stream",
     "text": [
      "  6%|▌         | 28/500 [00:25<07:53,  1.00s/it]"
     ]
    },
    {
     "name": "stdout",
     "output_type": "stream",
     "text": [
      "[Warning] Response not in categories: Other\n"
     ]
    },
    {
     "name": "stderr",
     "output_type": "stream",
     "text": [
      "  6%|▌         | 29/500 [00:26<07:04,  1.11it/s]"
     ]
    },
    {
     "name": "stdout",
     "output_type": "stream",
     "text": [
      "[Fallback] Searching for: Sanmina-SCI\n"
     ]
    },
    {
     "name": "stderr",
     "output_type": "stream",
     "text": [
      "  6%|▌         | 30/500 [00:27<08:18,  1.06s/it]"
     ]
    },
    {
     "name": "stdout",
     "output_type": "stream",
     "text": [
      "[Fallback] Searching for: Kawasho\n"
     ]
    },
    {
     "name": "stderr",
     "output_type": "stream",
     "text": [
      "  6%|▌         | 31/500 [00:29<09:38,  1.23s/it]Retrying langchain_google_genai.chat_models._chat_with_retry.<locals>._chat_with_retry in 2.0 seconds as it raised ResourceExhausted: 429 You exceeded your current quota, please check your plan and billing details. For more information on this error, head to: https://ai.google.dev/gemini-api/docs/rate-limits. [violations {\n",
      "  quota_metric: \"generativelanguage.googleapis.com/generate_content_free_tier_requests\"\n",
      "  quota_id: \"GenerateRequestsPerMinutePerProjectPerModel-FreeTier\"\n",
      "  quota_dimensions {\n",
      "    key: \"model\"\n",
      "    value: \"gemini-2.0-flash-lite\"\n",
      "  }\n",
      "  quota_dimensions {\n",
      "    key: \"location\"\n",
      "    value: \"global\"\n",
      "  }\n",
      "  quota_value: 30\n",
      "}\n",
      ", links {\n",
      "  description: \"Learn more about Gemini API quotas\"\n",
      "  url: \"https://ai.google.dev/gemini-api/docs/rate-limits\"\n",
      "}\n",
      ", retry_delay {\n",
      "  seconds: 30\n",
      "}\n",
      "].\n"
     ]
    },
    {
     "name": "stdout",
     "output_type": "stream",
     "text": [
      "Rate limit hit. Retrying in 60.0s (attempt 1/5)...\n"
     ]
    },
    {
     "name": "stderr",
     "output_type": "stream",
     "text": [
      "  7%|▋         | 33/500 [01:33<1:49:24, 14.06s/it]"
     ]
    },
    {
     "name": "stdout",
     "output_type": "stream",
     "text": [
      "[Fallback] Searching for: Sacyr-Vallehermoso\n"
     ]
    },
    {
     "name": "stderr",
     "output_type": "stream",
     "text": [
      "  7%|▋         | 37/500 [01:36<30:41,  3.98s/it]  "
     ]
    },
    {
     "name": "stdout",
     "output_type": "stream",
     "text": [
      "[Fallback] Searching for: Higashi-Nippon Bank\n"
     ]
    },
    {
     "name": "stderr",
     "output_type": "stream",
     "text": [
      "  8%|▊         | 38/500 [01:37<24:22,  3.16s/it]"
     ]
    },
    {
     "name": "stdout",
     "output_type": "stream",
     "text": [
      "[Fallback] Searching for: Bank of Ryukyus\n"
     ]
    },
    {
     "name": "stderr",
     "output_type": "stream",
     "text": [
      "  9%|▊         | 43/500 [01:41<08:41,  1.14s/it]"
     ]
    },
    {
     "name": "stdout",
     "output_type": "stream",
     "text": [
      "[Warning] Response not in categories: Other\n",
      "[Fallback] Searching for: SEM-Samsung Electro\n"
     ]
    },
    {
     "name": "stderr",
     "output_type": "stream",
     "text": [
      "  9%|▉         | 45/500 [01:43<07:48,  1.03s/it]"
     ]
    },
    {
     "name": "stdout",
     "output_type": "stream",
     "text": [
      "[Fallback] Searching for: Singapore Technologies\n"
     ]
    },
    {
     "name": "stderr",
     "output_type": "stream",
     "text": [
      " 10%|▉         | 48/500 [01:46<06:40,  1.13it/s]"
     ]
    },
    {
     "name": "stdout",
     "output_type": "stream",
     "text": [
      "[Fallback] Searching for: Amadeus Global Travel\n"
     ]
    },
    {
     "name": "stderr",
     "output_type": "stream",
     "text": [
      " 10%|█         | 51/500 [01:49<07:03,  1.06it/s]"
     ]
    },
    {
     "name": "stdout",
     "output_type": "stream",
     "text": [
      "[Fallback] Searching for: Archstone-Smith\n"
     ]
    },
    {
     "name": "stderr",
     "output_type": "stream",
     "text": [
      " 10%|█         | 52/500 [01:51<07:59,  1.07s/it]"
     ]
    },
    {
     "name": "stdout",
     "output_type": "stream",
     "text": [
      "[Warning] Response not in categories: Other\n",
      "[Fallback] Searching for: China Petroleum & Chemical\n"
     ]
    },
    {
     "name": "stderr",
     "output_type": "stream",
     "text": [
      " 11%|█         | 56/500 [01:54<06:07,  1.21it/s]"
     ]
    },
    {
     "name": "stdout",
     "output_type": "stream",
     "text": [
      "[Fallback] Searching for: Hokuriku Electric Power\n"
     ]
    },
    {
     "name": "stderr",
     "output_type": "stream",
     "text": [
      " 12%|█▏        | 58/500 [01:56<06:34,  1.12it/s]"
     ]
    },
    {
     "name": "stdout",
     "output_type": "stream",
     "text": [
      "[Fallback] Searching for: Apollo-Education Group\n"
     ]
    },
    {
     "name": "stderr",
     "output_type": "stream",
     "text": [
      " 12%|█▏        | 59/500 [01:57<07:33,  1.03s/it]"
     ]
    },
    {
     "name": "stdout",
     "output_type": "stream",
     "text": [
      "[Fallback] Searching for: Phoenix Cos\n"
     ]
    },
    {
     "name": "stderr",
     "output_type": "stream",
     "text": [
      " 12%|█▏        | 61/500 [01:59<06:55,  1.06it/s]"
     ]
    },
    {
     "name": "stdout",
     "output_type": "stream",
     "text": [
      "[Fallback] Searching for: Marriott Intl\n"
     ]
    },
    {
     "name": "stderr",
     "output_type": "stream",
     "text": [
      " 12%|█▏        | 62/500 [02:00<07:44,  1.06s/it]"
     ]
    },
    {
     "name": "stdout",
     "output_type": "stream",
     "text": [
      "[Fallback] Searching for: Air Prods & Chems\n"
     ]
    },
    {
     "name": "stderr",
     "output_type": "stream",
     "text": [
      " 13%|█▎        | 64/500 [02:02<07:26,  1.02s/it]"
     ]
    },
    {
     "name": "stdout",
     "output_type": "stream",
     "text": [
      "[Fallback] Searching for: Banque Nat de Belgique\n"
     ]
    },
    {
     "name": "stderr",
     "output_type": "stream",
     "text": [
      " 13%|█▎        | 67/500 [02:05<06:27,  1.12it/s]"
     ]
    },
    {
     "name": "stdout",
     "output_type": "stream",
     "text": [
      "[Fallback] Searching for: Kiyo Bank\n"
     ]
    },
    {
     "name": "stderr",
     "output_type": "stream",
     "text": [
      " 14%|█▍        | 71/500 [02:08<05:33,  1.29it/s]"
     ]
    },
    {
     "name": "stdout",
     "output_type": "stream",
     "text": [
      "[Warning] Response not in categories: Other\n"
     ]
    },
    {
     "name": "stderr",
     "output_type": "stream",
     "text": [
      " 15%|█▍        | 73/500 [02:10<06:19,  1.12it/s]"
     ]
    },
    {
     "name": "stdout",
     "output_type": "stream",
     "text": [
      "[Fallback] Searching for: Level 3 Commun\n"
     ]
    },
    {
     "name": "stderr",
     "output_type": "stream",
     "text": [
      " 15%|█▍        | 74/500 [02:12<07:06,  1.00s/it]"
     ]
    },
    {
     "name": "stdout",
     "output_type": "stream",
     "text": [
      "[Warning] Response not in categories: Other\n"
     ]
    },
    {
     "name": "stderr",
     "output_type": "stream",
     "text": [
      " 17%|█▋        | 86/500 [02:20<05:03,  1.36it/s]"
     ]
    },
    {
     "name": "stdout",
     "output_type": "stream",
     "text": [
      "[Warning] Response not in categories: Other\n"
     ]
    },
    {
     "name": "stderr",
     "output_type": "stream",
     "text": [
      " 18%|█▊        | 88/500 [02:22<05:32,  1.24it/s]"
     ]
    },
    {
     "name": "stdout",
     "output_type": "stream",
     "text": [
      "[Fallback] Searching for: ThyssenKrupp Group\n"
     ]
    },
    {
     "name": "stderr",
     "output_type": "stream",
     "text": [
      " 18%|█▊        | 91/500 [02:25<05:33,  1.23it/s]"
     ]
    },
    {
     "name": "stdout",
     "output_type": "stream",
     "text": [
      "[Fallback] Searching for: Pacific Century Regional\n"
     ]
    },
    {
     "name": "stderr",
     "output_type": "stream",
     "text": [
      " 18%|█▊        | 92/500 [02:26<06:25,  1.06it/s]"
     ]
    },
    {
     "name": "stdout",
     "output_type": "stream",
     "text": [
      "[Warning] Response not in categories: Other\n",
      "[Fallback] Searching for: Henderson Land Dev\n"
     ]
    },
    {
     "name": "stderr",
     "output_type": "stream",
     "text": [
      "Retrying langchain_google_genai.chat_models._chat_with_retry.<locals>._chat_with_retry in 2.0 seconds as it raised ResourceExhausted: 429 You exceeded your current quota, please check your plan and billing details. For more information on this error, head to: https://ai.google.dev/gemini-api/docs/rate-limits. [violations {\n",
      "  quota_metric: \"generativelanguage.googleapis.com/generate_content_free_tier_requests\"\n",
      "  quota_id: \"GenerateRequestsPerMinutePerProjectPerModel-FreeTier\"\n",
      "  quota_dimensions {\n",
      "    key: \"model\"\n",
      "    value: \"gemini-2.0-flash-lite\"\n",
      "  }\n",
      "  quota_dimensions {\n",
      "    key: \"location\"\n",
      "    value: \"global\"\n",
      "  }\n",
      "  quota_value: 30\n",
      "}\n",
      ", links {\n",
      "  description: \"Learn more about Gemini API quotas\"\n",
      "  url: \"https://ai.google.dev/gemini-api/docs/rate-limits\"\n",
      "}\n",
      ", retry_delay {\n",
      "  seconds: 32\n",
      "}\n",
      "].\n"
     ]
    },
    {
     "name": "stdout",
     "output_type": "stream",
     "text": [
      "Rate limit hit. Retrying in 60.0s (attempt 1/5)...\n",
      "[Fallback] Searching for: Henderson Land Dev\n"
     ]
    },
    {
     "name": "stderr",
     "output_type": "stream",
     "text": [
      " 19%|█▉        | 94/500 [03:31<1:36:08, 14.21s/it]"
     ]
    },
    {
     "name": "stdout",
     "output_type": "stream",
     "text": [
      "[Fallback] Searching for: Valiant Holding\n"
     ]
    },
    {
     "name": "stderr",
     "output_type": "stream",
     "text": [
      " 19%|█▉        | 96/500 [03:33<50:09,  7.45s/it]  "
     ]
    },
    {
     "name": "stdout",
     "output_type": "stream",
     "text": [
      "[Fallback] Searching for: Mylan Labs\n"
     ]
    },
    {
     "name": "stderr",
     "output_type": "stream",
     "text": [
      " 20%|█▉        | 99/500 [03:36<21:05,  3.16s/it]"
     ]
    },
    {
     "name": "stdout",
     "output_type": "stream",
     "text": [
      "[Fallback] Searching for: Oil & Natural Gas\n"
     ]
    },
    {
     "name": "stderr",
     "output_type": "stream",
     "text": [
      " 21%|██        | 104/500 [03:40<07:51,  1.19s/it]"
     ]
    },
    {
     "name": "stdout",
     "output_type": "stream",
     "text": [
      "[Fallback] Searching for: Temple-Inland\n"
     ]
    },
    {
     "name": "stderr",
     "output_type": "stream",
     "text": [
      " 21%|██▏       | 107/500 [03:43<06:11,  1.06it/s]"
     ]
    },
    {
     "name": "stdout",
     "output_type": "stream",
     "text": [
      "[Fallback] Searching for: Equity Office Prop\n"
     ]
    },
    {
     "name": "stderr",
     "output_type": "stream",
     "text": [
      " 22%|██▏       | 111/500 [03:46<05:11,  1.25it/s]"
     ]
    },
    {
     "name": "stdout",
     "output_type": "stream",
     "text": [
      "[Warning] Response not in categories: Other\n"
     ]
    },
    {
     "name": "stderr",
     "output_type": "stream",
     "text": [
      " 23%|██▎       | 114/500 [03:48<04:44,  1.36it/s]"
     ]
    },
    {
     "name": "stdout",
     "output_type": "stream",
     "text": [
      "[Warning] Response not in categories: Other\n"
     ]
    },
    {
     "name": "stderr",
     "output_type": "stream",
     "text": [
      " 23%|██▎       | 116/500 [03:50<04:23,  1.46it/s]"
     ]
    },
    {
     "name": "stdout",
     "output_type": "stream",
     "text": [
      "[Warning] Response not in categories: Other\n"
     ]
    },
    {
     "name": "stderr",
     "output_type": "stream",
     "text": [
      " 24%|██▍       | 119/500 [03:52<04:13,  1.50it/s]"
     ]
    },
    {
     "name": "stdout",
     "output_type": "stream",
     "text": [
      "[Fallback] Searching for: Westfield America Trust\n"
     ]
    },
    {
     "name": "stderr",
     "output_type": "stream",
     "text": [
      " 24%|██▍       | 120/500 [03:53<05:42,  1.11it/s]"
     ]
    },
    {
     "name": "stdout",
     "output_type": "stream",
     "text": [
      "[Warning] Response not in categories: Other\n",
      "[Fallback] Searching for: Toronto-Dominion Bank\n"
     ]
    },
    {
     "name": "stderr",
     "output_type": "stream",
     "text": [
      " 25%|██▍       | 123/500 [03:56<05:19,  1.18it/s]"
     ]
    },
    {
     "name": "stdout",
     "output_type": "stream",
     "text": [
      "[Fallback] Searching for: Louisiana-Pacific\n"
     ]
    },
    {
     "name": "stderr",
     "output_type": "stream",
     "text": [
      "Retrying langchain_google_genai.chat_models._chat_with_retry.<locals>._chat_with_retry in 2.0 seconds as it raised ResourceExhausted: 429 You exceeded your current quota, please check your plan and billing details. For more information on this error, head to: https://ai.google.dev/gemini-api/docs/rate-limits. [violations {\n",
      "  quota_metric: \"generativelanguage.googleapis.com/generate_content_free_tier_requests\"\n",
      "  quota_id: \"GenerateRequestsPerMinutePerProjectPerModel-FreeTier\"\n",
      "  quota_dimensions {\n",
      "    key: \"model\"\n",
      "    value: \"gemini-2.0-flash-lite\"\n",
      "  }\n",
      "  quota_dimensions {\n",
      "    key: \"location\"\n",
      "    value: \"global\"\n",
      "  }\n",
      "  quota_value: 30\n",
      "}\n",
      ", links {\n",
      "  description: \"Learn more about Gemini API quotas\"\n",
      "  url: \"https://ai.google.dev/gemini-api/docs/rate-limits\"\n",
      "}\n",
      ", retry_delay {\n",
      "  seconds: 2\n",
      "}\n",
      "].\n"
     ]
    },
    {
     "name": "stdout",
     "output_type": "stream",
     "text": [
      "Rate limit hit. Retrying in 60.0s (attempt 1/5)...\n",
      "[Fallback] Searching for: Louisiana-Pacific\n"
     ]
    },
    {
     "name": "stderr",
     "output_type": "stream",
     "text": [
      " 26%|██▌       | 128/500 [05:03<32:57,  5.32s/it]  "
     ]
    },
    {
     "name": "stdout",
     "output_type": "stream",
     "text": [
      "[Fallback] Searching for: Apartment Investment\n"
     ]
    },
    {
     "name": "stderr",
     "output_type": "stream",
     "text": [
      " 26%|██▌       | 129/500 [05:05<25:32,  4.13s/it]"
     ]
    },
    {
     "name": "stdout",
     "output_type": "stream",
     "text": [
      "[Warning] Response not in categories: Other\n"
     ]
    },
    {
     "name": "stderr",
     "output_type": "stream",
     "text": [
      " 26%|██▌       | 131/500 [05:06<14:38,  2.38s/it]"
     ]
    },
    {
     "name": "stdout",
     "output_type": "stream",
     "text": [
      "[Fallback] Searching for: Great Eastern Holdings\n"
     ]
    },
    {
     "name": "stderr",
     "output_type": "stream",
     "text": [
      " 27%|██▋       | 133/500 [05:08<10:19,  1.69s/it]"
     ]
    },
    {
     "name": "stdout",
     "output_type": "stream",
     "text": [
      "[Fallback] Searching for: Brambles Group\n"
     ]
    },
    {
     "name": "stderr",
     "output_type": "stream",
     "text": [
      " 27%|██▋       | 135/500 [05:10<08:25,  1.38s/it]"
     ]
    },
    {
     "name": "stdout",
     "output_type": "stream",
     "text": [
      "[Fallback] Searching for: Aegon Insurance Group\n"
     ]
    },
    {
     "name": "stderr",
     "output_type": "stream",
     "text": [
      " 27%|██▋       | 136/500 [05:12<08:51,  1.46s/it]"
     ]
    },
    {
     "name": "stdout",
     "output_type": "stream",
     "text": [
      "[Fallback] Searching for: Miyazaki Bank\n"
     ]
    },
    {
     "name": "stderr",
     "output_type": "stream",
     "text": [
      " 28%|██▊       | 139/500 [05:15<06:45,  1.12s/it]"
     ]
    },
    {
     "name": "stdout",
     "output_type": "stream",
     "text": [
      "[Fallback] Searching for: Korea Gas\n"
     ]
    },
    {
     "name": "stderr",
     "output_type": "stream",
     "text": [
      " 29%|██▉       | 145/500 [05:20<04:52,  1.22it/s]"
     ]
    },
    {
     "name": "stdout",
     "output_type": "stream",
     "text": [
      "[Warning] Response not in categories: Other\n"
     ]
    },
    {
     "name": "stderr",
     "output_type": "stream",
     "text": [
      " 29%|██▉       | 147/500 [05:22<04:49,  1.22it/s]"
     ]
    },
    {
     "name": "stdout",
     "output_type": "stream",
     "text": [
      "[Fallback] Searching for: Allmerica Financial\n"
     ]
    },
    {
     "name": "stderr",
     "output_type": "stream",
     "text": [
      " 30%|██▉       | 148/500 [05:23<06:04,  1.04s/it]"
     ]
    },
    {
     "name": "stdout",
     "output_type": "stream",
     "text": [
      "[Fallback] Searching for: Stockland Australia\n"
     ]
    },
    {
     "name": "stderr",
     "output_type": "stream",
     "text": [
      " 31%|███       | 154/500 [05:28<04:32,  1.27it/s]Retrying langchain_google_genai.chat_models._chat_with_retry.<locals>._chat_with_retry in 2.0 seconds as it raised ResourceExhausted: 429 You exceeded your current quota, please check your plan and billing details. For more information on this error, head to: https://ai.google.dev/gemini-api/docs/rate-limits. [violations {\n",
      "  quota_metric: \"generativelanguage.googleapis.com/generate_content_free_tier_requests\"\n",
      "  quota_id: \"GenerateRequestsPerMinutePerProjectPerModel-FreeTier\"\n",
      "  quota_dimensions {\n",
      "    key: \"model\"\n",
      "    value: \"gemini-2.0-flash-lite\"\n",
      "  }\n",
      "  quota_dimensions {\n",
      "    key: \"location\"\n",
      "    value: \"global\"\n",
      "  }\n",
      "  quota_value: 30\n",
      "}\n",
      ", links {\n",
      "  description: \"Learn more about Gemini API quotas\"\n",
      "  url: \"https://ai.google.dev/gemini-api/docs/rate-limits\"\n",
      "}\n",
      ", retry_delay {\n",
      "  seconds: 30\n",
      "}\n",
      "].\n"
     ]
    },
    {
     "name": "stdout",
     "output_type": "stream",
     "text": [
      "Rate limit hit. Retrying in 60.0s (attempt 1/5)...\n"
     ]
    },
    {
     "name": "stderr",
     "output_type": "stream",
     "text": [
      " 31%|███▏      | 157/500 [06:33<57:15, 10.02s/it]  "
     ]
    },
    {
     "name": "stdout",
     "output_type": "stream",
     "text": [
      "[Fallback] Searching for: Akzo Nobel Group\n"
     ]
    },
    {
     "name": "stderr",
     "output_type": "stream",
     "text": [
      " 32%|███▏      | 159/500 [06:35<30:34,  5.38s/it]"
     ]
    },
    {
     "name": "stdout",
     "output_type": "stream",
     "text": [
      "[Fallback] Searching for: Swiss Life Holding\n"
     ]
    },
    {
     "name": "stderr",
     "output_type": "stream",
     "text": [
      " 33%|███▎      | 164/500 [06:40<08:50,  1.58s/it]"
     ]
    },
    {
     "name": "stdout",
     "output_type": "stream",
     "text": [
      "[Fallback] Searching for: Marshall & Ilsley\n"
     ]
    },
    {
     "name": "stderr",
     "output_type": "stream",
     "text": [
      " 34%|███▍      | 169/500 [06:44<04:51,  1.14it/s]"
     ]
    },
    {
     "name": "stdout",
     "output_type": "stream",
     "text": [
      "[Fallback] Searching for: Bank of Nagoya\n"
     ]
    },
    {
     "name": "stderr",
     "output_type": "stream",
     "text": [
      " 34%|███▍      | 171/500 [06:46<05:35,  1.02s/it]"
     ]
    },
    {
     "name": "stdout",
     "output_type": "stream",
     "text": [
      "[Warning] Response not in categories: Other\n"
     ]
    },
    {
     "name": "stderr",
     "output_type": "stream",
     "text": [
      " 35%|███▍      | 173/500 [06:48<04:55,  1.11it/s]"
     ]
    },
    {
     "name": "stdout",
     "output_type": "stream",
     "text": [
      "[Fallback] Searching for: San-In Godo Bank\n"
     ]
    },
    {
     "name": "stderr",
     "output_type": "stream",
     "text": [
      " 35%|███▌      | 175/500 [06:50<04:52,  1.11it/s]"
     ]
    },
    {
     "name": "stdout",
     "output_type": "stream",
     "text": [
      "[Fallback] Searching for: Impala Platinum Holdings\n"
     ]
    },
    {
     "name": "stderr",
     "output_type": "stream",
     "text": [
      " 36%|███▋      | 182/500 [06:55<03:44,  1.42it/s]"
     ]
    },
    {
     "name": "stdout",
     "output_type": "stream",
     "text": [
      "[Fallback] Searching for: CIC Group\n"
     ]
    },
    {
     "name": "stderr",
     "output_type": "stream",
     "text": [
      " 37%|███▋      | 185/500 [06:58<04:00,  1.31it/s]Retrying langchain_google_genai.chat_models._chat_with_retry.<locals>._chat_with_retry in 2.0 seconds as it raised ResourceExhausted: 429 You exceeded your current quota, please check your plan and billing details. For more information on this error, head to: https://ai.google.dev/gemini-api/docs/rate-limits. [violations {\n",
      "  quota_metric: \"generativelanguage.googleapis.com/generate_content_free_tier_requests\"\n",
      "  quota_id: \"GenerateRequestsPerMinutePerProjectPerModel-FreeTier\"\n",
      "  quota_dimensions {\n",
      "    key: \"model\"\n",
      "    value: \"gemini-2.0-flash-lite\"\n",
      "  }\n",
      "  quota_dimensions {\n",
      "    key: \"location\"\n",
      "    value: \"global\"\n",
      "  }\n",
      "  quota_value: 30\n",
      "}\n",
      ", links {\n",
      "  description: \"Learn more about Gemini API quotas\"\n",
      "  url: \"https://ai.google.dev/gemini-api/docs/rate-limits\"\n",
      "}\n",
      ", retry_delay {\n",
      "  seconds: 1\n",
      "}\n",
      "].\n",
      " 38%|███▊      | 188/500 [07:02<05:18,  1.02s/it]Retrying langchain_google_genai.chat_models._chat_with_retry.<locals>._chat_with_retry in 2.0 seconds as it raised ResourceExhausted: 429 You exceeded your current quota, please check your plan and billing details. For more information on this error, head to: https://ai.google.dev/gemini-api/docs/rate-limits. [violations {\n",
      "  quota_metric: \"generativelanguage.googleapis.com/generate_content_free_tier_requests\"\n",
      "  quota_id: \"GenerateRequestsPerMinutePerProjectPerModel-FreeTier\"\n",
      "  quota_dimensions {\n",
      "    key: \"model\"\n",
      "    value: \"gemini-2.0-flash-lite\"\n",
      "  }\n",
      "  quota_dimensions {\n",
      "    key: \"location\"\n",
      "    value: \"global\"\n",
      "  }\n",
      "  quota_value: 30\n",
      "}\n",
      ", links {\n",
      "  description: \"Learn more about Gemini API quotas\"\n",
      "  url: \"https://ai.google.dev/gemini-api/docs/rate-limits\"\n",
      "}\n",
      ", retry_delay {\n",
      "  seconds: 56\n",
      "}\n",
      "].\n",
      " 39%|███▉      | 197/500 [07:10<03:49,  1.32it/s]"
     ]
    },
    {
     "name": "stdout",
     "output_type": "stream",
     "text": [
      "[Fallback] Searching for: Sigma-Aldrich\n"
     ]
    },
    {
     "name": "stderr",
     "output_type": "stream",
     "text": [
      " 40%|████      | 200/500 [07:13<04:00,  1.24it/s]"
     ]
    },
    {
     "name": "stdout",
     "output_type": "stream",
     "text": [
      "[Warning] Response not in categories: Other\n",
      "[Fallback] Searching for: Wal-Mart Stores\n"
     ]
    },
    {
     "name": "stderr",
     "output_type": "stream",
     "text": [
      " 40%|████      | 201/500 [07:14<04:57,  1.01it/s]"
     ]
    },
    {
     "name": "stdout",
     "output_type": "stream",
     "text": [
      "[Fallback] Searching for: Williams Cos\n"
     ]
    },
    {
     "name": "stderr",
     "output_type": "stream",
     "text": [
      " 41%|████      | 204/500 [07:17<04:09,  1.19it/s]"
     ]
    },
    {
     "name": "stdout",
     "output_type": "stream",
     "text": [
      "[Fallback] Searching for: Burlington Santa Fe\n"
     ]
    },
    {
     "name": "stderr",
     "output_type": "stream",
     "text": [
      " 41%|████      | 206/500 [07:19<04:24,  1.11it/s]"
     ]
    },
    {
     "name": "stdout",
     "output_type": "stream",
     "text": [
      "[Fallback] Searching for: HDFC-Housing Devel\n",
      "No Wikipedia content found for: HDFC-Housing Devel\n"
     ]
    },
    {
     "name": "stderr",
     "output_type": "stream",
     "text": [
      " 42%|████▏     | 208/500 [07:21<04:08,  1.17it/s]"
     ]
    },
    {
     "name": "stdout",
     "output_type": "stream",
     "text": [
      "[Fallback] Searching for: Surgutneftegas Oil\n"
     ]
    },
    {
     "name": "stderr",
     "output_type": "stream",
     "text": [
      " 42%|████▏     | 209/500 [07:22<04:49,  1.01it/s]"
     ]
    },
    {
     "name": "stdout",
     "output_type": "stream",
     "text": [
      "[Fallback] Searching for: Shin-Etsu Chemical\n"
     ]
    },
    {
     "name": "stderr",
     "output_type": "stream",
     "text": [
      " 42%|████▏     | 211/500 [07:24<04:44,  1.02it/s]"
     ]
    },
    {
     "name": "stdout",
     "output_type": "stream",
     "text": [
      "[Fallback] Searching for: Malaysia Intl Shipping\n"
     ]
    },
    {
     "name": "stderr",
     "output_type": "stream",
     "text": [
      " 43%|████▎     | 215/500 [07:27<03:53,  1.22it/s]"
     ]
    },
    {
     "name": "stdout",
     "output_type": "stream",
     "text": [
      "[Fallback] Searching for: Wm Wrigley Jr\n"
     ]
    },
    {
     "name": "stderr",
     "output_type": "stream",
     "text": [
      " 43%|████▎     | 216/500 [07:29<04:33,  1.04it/s]Retrying langchain_google_genai.chat_models._chat_with_retry.<locals>._chat_with_retry in 2.0 seconds as it raised ResourceExhausted: 429 You exceeded your current quota, please check your plan and billing details. For more information on this error, head to: https://ai.google.dev/gemini-api/docs/rate-limits. [violations {\n",
      "  quota_metric: \"generativelanguage.googleapis.com/generate_content_free_tier_requests\"\n",
      "  quota_id: \"GenerateRequestsPerMinutePerProjectPerModel-FreeTier\"\n",
      "  quota_dimensions {\n",
      "    key: \"model\"\n",
      "    value: \"gemini-2.0-flash-lite\"\n",
      "  }\n",
      "  quota_dimensions {\n",
      "    key: \"location\"\n",
      "    value: \"global\"\n",
      "  }\n",
      "  quota_value: 30\n",
      "}\n",
      ", links {\n",
      "  description: \"Learn more about Gemini API quotas\"\n",
      "  url: \"https://ai.google.dev/gemini-api/docs/rate-limits\"\n",
      "}\n",
      ", retry_delay {\n",
      "  seconds: 30\n",
      "}\n",
      "].\n"
     ]
    },
    {
     "name": "stdout",
     "output_type": "stream",
     "text": [
      "Rate limit hit. Retrying in 60.0s (attempt 1/5)...\n"
     ]
    },
    {
     "name": "stderr",
     "output_type": "stream",
     "text": [
      " 44%|████▎     | 218/500 [08:32<1:05:24, 13.92s/it]"
     ]
    },
    {
     "name": "stdout",
     "output_type": "stream",
     "text": [
      "[Fallback] Searching for: Sanofi-Synthelabo\n"
     ]
    },
    {
     "name": "stderr",
     "output_type": "stream",
     "text": [
      " 44%|████▍     | 221/500 [08:35<24:33,  5.28s/it]  "
     ]
    },
    {
     "name": "stdout",
     "output_type": "stream",
     "text": [
      "[Warning] Response not in categories: Other\n"
     ]
    },
    {
     "name": "stderr",
     "output_type": "stream",
     "text": [
      " 44%|████▍     | 222/500 [08:36<18:07,  3.91s/it]"
     ]
    },
    {
     "name": "stdout",
     "output_type": "stream",
     "text": [
      "[Warning] Response not in categories: Other\n",
      "[Fallback] Searching for: First Citizens Bcshs\n"
     ]
    },
    {
     "name": "stderr",
     "output_type": "stream",
     "text": [
      " 45%|████▌     | 225/500 [08:38<08:36,  1.88s/it]"
     ]
    },
    {
     "name": "stdout",
     "output_type": "stream",
     "text": [
      "[Fallback] Searching for: Kimberly-Clark de Mexico\n"
     ]
    },
    {
     "name": "stderr",
     "output_type": "stream",
     "text": [
      " 47%|████▋     | 233/500 [08:45<03:34,  1.24it/s]"
     ]
    },
    {
     "name": "stdout",
     "output_type": "stream",
     "text": [
      "[Warning] Response not in categories: Other\n"
     ]
    },
    {
     "name": "stderr",
     "output_type": "stream",
     "text": [
      " 48%|████▊     | 242/500 [08:51<03:15,  1.32it/s]"
     ]
    },
    {
     "name": "stdout",
     "output_type": "stream",
     "text": [
      "[Warning] Response not in categories: Other\n"
     ]
    },
    {
     "name": "stderr",
     "output_type": "stream",
     "text": [
      " 49%|████▊     | 243/500 [08:52<03:10,  1.35it/s]"
     ]
    },
    {
     "name": "stdout",
     "output_type": "stream",
     "text": [
      "[Fallback] Searching for: China Development Finl\n"
     ]
    },
    {
     "name": "stderr",
     "output_type": "stream",
     "text": [
      " 49%|████▉     | 244/500 [08:53<03:55,  1.09it/s]"
     ]
    },
    {
     "name": "stdout",
     "output_type": "stream",
     "text": [
      "[Fallback] Searching for: Pinault-Printemps-Redoute\n"
     ]
    },
    {
     "name": "stderr",
     "output_type": "stream",
     "text": [
      " 49%|████▉     | 246/500 [08:55<03:56,  1.07it/s]"
     ]
    },
    {
     "name": "stdout",
     "output_type": "stream",
     "text": [
      "[Fallback] Searching for: Schering Group\n"
     ]
    },
    {
     "name": "stderr",
     "output_type": "stream",
     "text": [
      " 49%|████▉     | 247/500 [08:56<04:15,  1.01s/it]Retrying langchain_google_genai.chat_models._chat_with_retry.<locals>._chat_with_retry in 2.0 seconds as it raised ResourceExhausted: 429 You exceeded your current quota, please check your plan and billing details. For more information on this error, head to: https://ai.google.dev/gemini-api/docs/rate-limits. [violations {\n",
      "  quota_metric: \"generativelanguage.googleapis.com/generate_content_free_tier_requests\"\n",
      "  quota_id: \"GenerateRequestsPerMinutePerProjectPerModel-FreeTier\"\n",
      "  quota_dimensions {\n",
      "    key: \"model\"\n",
      "    value: \"gemini-2.0-flash-lite\"\n",
      "  }\n",
      "  quota_dimensions {\n",
      "    key: \"location\"\n",
      "    value: \"global\"\n",
      "  }\n",
      "  quota_value: 30\n",
      "}\n",
      ", links {\n",
      "  description: \"Learn more about Gemini API quotas\"\n",
      "  url: \"https://ai.google.dev/gemini-api/docs/rate-limits\"\n",
      "}\n",
      ", retry_delay {\n",
      "  seconds: 2\n",
      "}\n",
      "].\n"
     ]
    },
    {
     "name": "stdout",
     "output_type": "stream",
     "text": [
      "Rate limit hit. Retrying in 60.0s (attempt 1/5)...\n"
     ]
    },
    {
     "name": "stderr",
     "output_type": "stream",
     "text": [
      " 50%|█████     | 250/500 [10:01<41:32,  9.97s/it]  "
     ]
    },
    {
     "name": "stdout",
     "output_type": "stream",
     "text": [
      "[Fallback] Searching for: Hanshin Construction\n"
     ]
    },
    {
     "name": "stderr",
     "output_type": "stream",
     "text": [
      " 50%|█████     | 252/500 [10:03<22:06,  5.35s/it]"
     ]
    },
    {
     "name": "stdout",
     "output_type": "stream",
     "text": [
      "[Fallback] Searching for: Statoil Group\n"
     ]
    },
    {
     "name": "stderr",
     "output_type": "stream",
     "text": [
      " 51%|█████     | 254/500 [10:05<12:33,  3.06s/it]"
     ]
    },
    {
     "name": "stdout",
     "output_type": "stream",
     "text": [
      "[Fallback] Searching for: Assoc British Foods\n"
     ]
    },
    {
     "name": "stderr",
     "output_type": "stream",
     "text": [
      " 51%|█████     | 255/500 [10:06<10:30,  2.57s/it]"
     ]
    },
    {
     "name": "stdout",
     "output_type": "stream",
     "text": [
      "[Warning] Response not in categories: Other\n"
     ]
    },
    {
     "name": "stderr",
     "output_type": "stream",
     "text": [
      " 51%|█████▏    | 257/500 [10:08<06:35,  1.63s/it]"
     ]
    },
    {
     "name": "stdout",
     "output_type": "stream",
     "text": [
      "[Fallback] Searching for: Thai Airways Intl\n"
     ]
    },
    {
     "name": "stderr",
     "output_type": "stream",
     "text": [
      " 52%|█████▏    | 261/500 [10:11<04:01,  1.01s/it]"
     ]
    },
    {
     "name": "stdout",
     "output_type": "stream",
     "text": [
      "[Fallback] Searching for: Kerr-McGee\n"
     ]
    },
    {
     "name": "stderr",
     "output_type": "stream",
     "text": [
      " 52%|█████▏    | 262/500 [10:13<04:30,  1.14s/it]"
     ]
    },
    {
     "name": "stdout",
     "output_type": "stream",
     "text": [
      "[Fallback] Searching for: Standard Chartered Group\n"
     ]
    },
    {
     "name": "stderr",
     "output_type": "stream",
     "text": [
      " 53%|█████▎    | 263/500 [10:14<04:57,  1.26s/it]"
     ]
    },
    {
     "name": "stdout",
     "output_type": "stream",
     "text": [
      "[Fallback] Searching for: Great A&P Tea\n"
     ]
    },
    {
     "name": "stderr",
     "output_type": "stream",
     "text": [
      " 53%|█████▎    | 264/500 [10:16<05:16,  1.34s/it]"
     ]
    },
    {
     "name": "stdout",
     "output_type": "stream",
     "text": [
      "[Fallback] Searching for: Wharf (Holdings) Hong\n"
     ]
    },
    {
     "name": "stderr",
     "output_type": "stream",
     "text": [
      " 54%|█████▍    | 269/500 [10:20<03:06,  1.24it/s]"
     ]
    },
    {
     "name": "stdout",
     "output_type": "stream",
     "text": [
      "[Fallback] Searching for: Chiba Kogyo Bank\n"
     ]
    },
    {
     "name": "stderr",
     "output_type": "stream",
     "text": [
      " 54%|█████▍    | 270/500 [10:22<04:25,  1.15s/it]"
     ]
    },
    {
     "name": "stdout",
     "output_type": "stream",
     "text": [
      "[Fallback] Searching for: KKPC-Korea Kumho\n"
     ]
    },
    {
     "name": "stderr",
     "output_type": "stream",
     "text": [
      " 54%|█████▍    | 272/500 [10:23<03:53,  1.02s/it]"
     ]
    },
    {
     "name": "stdout",
     "output_type": "stream",
     "text": [
      "[Fallback] Searching for: Associated Banc-Corp\n"
     ]
    },
    {
     "name": "stderr",
     "output_type": "stream",
     "text": [
      " 55%|█████▍    | 274/500 [10:25<03:41,  1.02it/s]"
     ]
    },
    {
     "name": "stdout",
     "output_type": "stream",
     "text": [
      "[Fallback] Searching for: Service Corp Intl\n"
     ]
    },
    {
     "name": "stderr",
     "output_type": "stream",
     "text": [
      " 56%|█████▌    | 280/500 [10:31<02:56,  1.25it/s]Retrying langchain_google_genai.chat_models._chat_with_retry.<locals>._chat_with_retry in 2.0 seconds as it raised ResourceExhausted: 429 You exceeded your current quota, please check your plan and billing details. For more information on this error, head to: https://ai.google.dev/gemini-api/docs/rate-limits. [violations {\n",
      "  quota_metric: \"generativelanguage.googleapis.com/generate_content_free_tier_requests\"\n",
      "  quota_id: \"GenerateRequestsPerMinutePerProjectPerModel-FreeTier\"\n",
      "  quota_dimensions {\n",
      "    key: \"model\"\n",
      "    value: \"gemini-2.0-flash-lite\"\n",
      "  }\n",
      "  quota_dimensions {\n",
      "    key: \"location\"\n",
      "    value: \"global\"\n",
      "  }\n",
      "  quota_value: 30\n",
      "}\n",
      ", links {\n",
      "  description: \"Learn more about Gemini API quotas\"\n",
      "  url: \"https://ai.google.dev/gemini-api/docs/rate-limits\"\n",
      "}\n",
      ", retry_delay {\n",
      "  seconds: 28\n",
      "}\n",
      "].\n"
     ]
    },
    {
     "name": "stdout",
     "output_type": "stream",
     "text": [
      "Rate limit hit. Retrying in 60.0s (attempt 1/5)...\n"
     ]
    },
    {
     "name": "stderr",
     "output_type": "stream",
     "text": [
      " 56%|█████▌    | 281/500 [11:34<1:11:05, 19.48s/it]"
     ]
    },
    {
     "name": "stdout",
     "output_type": "stream",
     "text": [
      "[Fallback] Searching for: BPER-Emilia Romagna\n"
     ]
    },
    {
     "name": "stderr",
     "output_type": "stream",
     "text": [
      " 57%|█████▋    | 283/500 [11:36<36:22, 10.06s/it]  "
     ]
    },
    {
     "name": "stdout",
     "output_type": "stream",
     "text": [
      "[Warning] Response not in categories: Other\n"
     ]
    },
    {
     "name": "stderr",
     "output_type": "stream",
     "text": [
      " 57%|█████▋    | 284/500 [11:36<25:59,  7.22s/it]"
     ]
    },
    {
     "name": "stdout",
     "output_type": "stream",
     "text": [
      "[Fallback] Searching for: Banca Naz del Lavoro\n",
      "No Wikipedia content found for: Banca Naz del Lavoro\n"
     ]
    },
    {
     "name": "stderr",
     "output_type": "stream",
     "text": [
      " 57%|█████▋    | 285/500 [11:37<19:07,  5.34s/it]"
     ]
    },
    {
     "name": "stdout",
     "output_type": "stream",
     "text": [
      "[Fallback] Searching for: Taiwan Business Bank\n"
     ]
    },
    {
     "name": "stderr",
     "output_type": "stream",
     "text": [
      " 58%|█████▊    | 290/500 [11:42<05:37,  1.61s/it]"
     ]
    },
    {
     "name": "stdout",
     "output_type": "stream",
     "text": [
      "[Warning] Response not in categories: Other\n"
     ]
    },
    {
     "name": "stderr",
     "output_type": "stream",
     "text": [
      " 58%|█████▊    | 291/500 [11:43<04:46,  1.37s/it]"
     ]
    },
    {
     "name": "stdout",
     "output_type": "stream",
     "text": [
      "[Fallback] Searching for: Novo-Nordisk\n"
     ]
    },
    {
     "name": "stderr",
     "output_type": "stream",
     "text": [
      " 58%|█████▊    | 292/500 [11:44<04:54,  1.42s/it]"
     ]
    },
    {
     "name": "stdout",
     "output_type": "stream",
     "text": [
      "[Fallback] Searching for: Natl Semiconductor\n"
     ]
    },
    {
     "name": "stderr",
     "output_type": "stream",
     "text": [
      " 59%|█████▉    | 295/500 [11:47<03:27,  1.01s/it]"
     ]
    },
    {
     "name": "stdout",
     "output_type": "stream",
     "text": [
      "[Fallback] Searching for: Central European Media\n"
     ]
    },
    {
     "name": "stderr",
     "output_type": "stream",
     "text": [
      " 60%|██████    | 302/500 [11:52<02:25,  1.36it/s]"
     ]
    },
    {
     "name": "stdout",
     "output_type": "stream",
     "text": [
      "[Fallback] Searching for: Shionogi & Co\n"
     ]
    },
    {
     "name": "stderr",
     "output_type": "stream",
     "text": [
      " 62%|██████▏   | 309/500 [11:58<02:19,  1.37it/s]"
     ]
    },
    {
     "name": "stdout",
     "output_type": "stream",
     "text": [
      "[Fallback] Searching for: Tupras-Turkiye Petrol\n"
     ]
    },
    {
     "name": "stderr",
     "output_type": "stream",
     "text": [
      " 62%|██████▏   | 311/500 [12:00<02:45,  1.14it/s]"
     ]
    },
    {
     "name": "stdout",
     "output_type": "stream",
     "text": [
      "[Fallback] Searching for: Bank of Saga\n"
     ]
    },
    {
     "name": "stderr",
     "output_type": "stream",
     "text": [
      " 63%|██████▎   | 316/500 [12:04<02:24,  1.27it/s]"
     ]
    },
    {
     "name": "stdout",
     "output_type": "stream",
     "text": [
      "[Fallback] Searching for: Verizon Commun\n"
     ]
    },
    {
     "name": "stderr",
     "output_type": "stream",
     "text": [
      " 63%|██████▎   | 317/500 [12:06<02:59,  1.02it/s]"
     ]
    },
    {
     "name": "stdout",
     "output_type": "stream",
     "text": [
      "[Fallback] Searching for: William Hill Org\n"
     ]
    },
    {
     "name": "stderr",
     "output_type": "stream",
     "text": [
      " 64%|██████▎   | 318/500 [12:07<03:32,  1.17s/it]"
     ]
    },
    {
     "name": "stdout",
     "output_type": "stream",
     "text": [
      "[Warning] Response not in categories: Other\n"
     ]
    },
    {
     "name": "stderr",
     "output_type": "stream",
     "text": [
      " 64%|██████▍   | 319/500 [12:08<03:03,  1.01s/it]"
     ]
    },
    {
     "name": "stdout",
     "output_type": "stream",
     "text": [
      "[Fallback] Searching for: Deere & Co\n"
     ]
    },
    {
     "name": "stderr",
     "output_type": "stream",
     "text": [
      " 64%|██████▍   | 322/500 [12:11<02:43,  1.09it/s]"
     ]
    },
    {
     "name": "stdout",
     "output_type": "stream",
     "text": [
      "[Fallback] Searching for: Performance Food\n"
     ]
    },
    {
     "name": "stderr",
     "output_type": "stream",
     "text": [
      " 65%|██████▍   | 323/500 [12:12<02:59,  1.01s/it]"
     ]
    },
    {
     "name": "stdout",
     "output_type": "stream",
     "text": [
      "[Fallback] Searching for: Intl Flavors & Frags\n"
     ]
    },
    {
     "name": "stderr",
     "output_type": "stream",
     "text": [
      " 65%|██████▌   | 326/500 [12:15<02:43,  1.06it/s]"
     ]
    },
    {
     "name": "stdout",
     "output_type": "stream",
     "text": [
      "[Fallback] Searching for: Wendy`s International\n"
     ]
    },
    {
     "name": "stderr",
     "output_type": "stream",
     "text": [
      " 66%|██████▌   | 330/500 [12:18<02:20,  1.21it/s]"
     ]
    },
    {
     "name": "stdout",
     "output_type": "stream",
     "text": [
      "[Fallback] Searching for: KT&G\n"
     ]
    },
    {
     "name": "stderr",
     "output_type": "stream",
     "text": [
      " 67%|██████▋   | 335/500 [12:23<02:05,  1.32it/s]"
     ]
    },
    {
     "name": "stdout",
     "output_type": "stream",
     "text": [
      "[Fallback] Searching for: McCormick & Co\n"
     ]
    },
    {
     "name": "stderr",
     "output_type": "stream",
     "text": [
      " 67%|██████▋   | 337/500 [12:24<02:12,  1.23it/s]"
     ]
    },
    {
     "name": "stdout",
     "output_type": "stream",
     "text": [
      "[Fallback] Searching for: Nurnberger Beteiligungs\n"
     ]
    },
    {
     "name": "stderr",
     "output_type": "stream",
     "text": [
      " 68%|██████▊   | 341/500 [12:28<02:13,  1.19it/s]"
     ]
    },
    {
     "name": "stdout",
     "output_type": "stream",
     "text": [
      "[Fallback] Searching for: Travelers Property Cas\n"
     ]
    },
    {
     "name": "stderr",
     "output_type": "stream",
     "text": [
      "Retrying langchain_google_genai.chat_models._chat_with_retry.<locals>._chat_with_retry in 2.0 seconds as it raised ResourceExhausted: 429 You exceeded your current quota, please check your plan and billing details. For more information on this error, head to: https://ai.google.dev/gemini-api/docs/rate-limits. [violations {\n",
      "  quota_metric: \"generativelanguage.googleapis.com/generate_content_free_tier_requests\"\n",
      "  quota_id: \"GenerateRequestsPerMinutePerProjectPerModel-FreeTier\"\n",
      "  quota_dimensions {\n",
      "    key: \"model\"\n",
      "    value: \"gemini-2.0-flash-lite\"\n",
      "  }\n",
      "  quota_dimensions {\n",
      "    key: \"location\"\n",
      "    value: \"global\"\n",
      "  }\n",
      "  quota_value: 30\n",
      "}\n",
      ", links {\n",
      "  description: \"Learn more about Gemini API quotas\"\n",
      "  url: \"https://ai.google.dev/gemini-api/docs/rate-limits\"\n",
      "}\n",
      ", retry_delay {\n",
      "  seconds: 30\n",
      "}\n",
      "].\n"
     ]
    },
    {
     "name": "stdout",
     "output_type": "stream",
     "text": [
      "Rate limit hit. Retrying in 60.0s (attempt 1/5)...\n",
      "[Fallback] Searching for: Travelers Property Cas\n"
     ]
    },
    {
     "name": "stderr",
     "output_type": "stream",
     "text": [
      " 70%|███████   | 350/500 [13:39<04:37,  1.85s/it]"
     ]
    },
    {
     "name": "stdout",
     "output_type": "stream",
     "text": [
      "[Warning] Response not in categories: Real estate\n"
     ]
    },
    {
     "name": "stderr",
     "output_type": "stream",
     "text": [
      " 70%|███████   | 351/500 [13:39<03:40,  1.48s/it]"
     ]
    },
    {
     "name": "stdout",
     "output_type": "stream",
     "text": [
      "[Fallback] Searching for: Fuji Heavy Inds\n"
     ]
    },
    {
     "name": "stderr",
     "output_type": "stream",
     "text": [
      " 71%|███████   | 353/500 [13:41<02:59,  1.22s/it]"
     ]
    },
    {
     "name": "stdout",
     "output_type": "stream",
     "text": [
      "[Fallback] Searching for: Neyveli Lignite\n"
     ]
    },
    {
     "name": "stderr",
     "output_type": "stream",
     "text": [
      " 71%|███████▏  | 357/500 [13:44<01:56,  1.23it/s]"
     ]
    },
    {
     "name": "stdout",
     "output_type": "stream",
     "text": [
      "[Warning] Response not in categories: Other\n"
     ]
    },
    {
     "name": "stderr",
     "output_type": "stream",
     "text": [
      " 72%|███████▏  | 359/500 [13:46<01:37,  1.45it/s]"
     ]
    },
    {
     "name": "stdout",
     "output_type": "stream",
     "text": [
      "[Fallback] Searching for: Petrobras-Petrsleo Brasil\n",
      "No Wikipedia content found for: Petrobras-Petrsleo Brasil\n"
     ]
    },
    {
     "name": "stderr",
     "output_type": "stream",
     "text": [
      " 72%|███████▏  | 362/500 [13:48<01:38,  1.40it/s]"
     ]
    },
    {
     "name": "stdout",
     "output_type": "stream",
     "text": [
      "[Warning] Response not in categories: Other\n"
     ]
    },
    {
     "name": "stderr",
     "output_type": "stream",
     "text": [
      " 73%|███████▎  | 365/500 [13:50<01:37,  1.39it/s]"
     ]
    },
    {
     "name": "stdout",
     "output_type": "stream",
     "text": [
      "[Fallback] Searching for: Hyakugo Bank\n"
     ]
    },
    {
     "name": "stderr",
     "output_type": "stream",
     "text": [
      " 73%|███████▎  | 367/500 [13:52<01:46,  1.25it/s]"
     ]
    },
    {
     "name": "stdout",
     "output_type": "stream",
     "text": [
      "[Warning] Response not in categories: Other\n"
     ]
    },
    {
     "name": "stderr",
     "output_type": "stream",
     "text": [
      " 74%|███████▎  | 368/500 [13:53<01:45,  1.25it/s]"
     ]
    },
    {
     "name": "stdout",
     "output_type": "stream",
     "text": [
      "[Fallback] Searching for: Essilor International\n"
     ]
    },
    {
     "name": "stderr",
     "output_type": "stream",
     "text": [
      " 74%|███████▍  | 372/500 [13:56<01:33,  1.37it/s]Retrying langchain_google_genai.chat_models._chat_with_retry.<locals>._chat_with_retry in 2.0 seconds as it raised ResourceExhausted: 429 You exceeded your current quota, please check your plan and billing details. For more information on this error, head to: https://ai.google.dev/gemini-api/docs/rate-limits. [violations {\n",
      "  quota_metric: \"generativelanguage.googleapis.com/generate_content_free_tier_requests\"\n",
      "  quota_id: \"GenerateRequestsPerMinutePerProjectPerModel-FreeTier\"\n",
      "  quota_dimensions {\n",
      "    key: \"model\"\n",
      "    value: \"gemini-2.0-flash-lite\"\n",
      "  }\n",
      "  quota_dimensions {\n",
      "    key: \"location\"\n",
      "    value: \"global\"\n",
      "  }\n",
      "  quota_value: 30\n",
      "}\n",
      ", links {\n",
      "  description: \"Learn more about Gemini API quotas\"\n",
      "  url: \"https://ai.google.dev/gemini-api/docs/rate-limits\"\n",
      "}\n",
      ", retry_delay {\n",
      "  seconds: 3\n",
      "}\n",
      "].\n"
     ]
    },
    {
     "name": "stdout",
     "output_type": "stream",
     "text": [
      "Rate limit hit. Retrying in 60.0s (attempt 1/5)...\n"
     ]
    },
    {
     "name": "stderr",
     "output_type": "stream",
     "text": [
      " 75%|███████▍  | 373/500 [14:59<41:05, 19.41s/it]"
     ]
    },
    {
     "name": "stdout",
     "output_type": "stream",
     "text": [
      "[Fallback] Searching for: Britannic Group\n"
     ]
    },
    {
     "name": "stderr",
     "output_type": "stream",
     "text": [
      " 75%|███████▍  | 374/500 [15:00<29:28, 14.04s/it]"
     ]
    },
    {
     "name": "stdout",
     "output_type": "stream",
     "text": [
      "[Fallback] Searching for: Brother Inds\n"
     ]
    },
    {
     "name": "stderr",
     "output_type": "stream",
     "text": [
      " 75%|███████▌  | 375/500 [15:02<21:23, 10.27s/it]"
     ]
    },
    {
     "name": "stdout",
     "output_type": "stream",
     "text": [
      "[Warning] Response not in categories: Other\n"
     ]
    },
    {
     "name": "stderr",
     "output_type": "stream",
     "text": [
      " 76%|███████▌  | 378/500 [15:05<08:20,  4.10s/it]"
     ]
    },
    {
     "name": "stdout",
     "output_type": "stream",
     "text": [
      "[Fallback] Searching for: AMB Property\n"
     ]
    },
    {
     "name": "stderr",
     "output_type": "stream",
     "text": [
      " 76%|███████▌  | 379/500 [15:06<06:57,  3.45s/it]"
     ]
    },
    {
     "name": "stdout",
     "output_type": "stream",
     "text": [
      "[Warning] Response not in categories: Other\n"
     ]
    },
    {
     "name": "stderr",
     "output_type": "stream",
     "text": [
      " 76%|███████▌  | 381/500 [15:08<04:00,  2.02s/it]"
     ]
    },
    {
     "name": "stdout",
     "output_type": "stream",
     "text": [
      "[Fallback] Searching for: iStar Financial\n"
     ]
    },
    {
     "name": "stderr",
     "output_type": "stream",
     "text": [
      " 77%|███████▋  | 386/500 [15:12<01:49,  1.04it/s]"
     ]
    },
    {
     "name": "stdout",
     "output_type": "stream",
     "text": [
      "[Fallback] Searching for: Grupo Imsa\n"
     ]
    },
    {
     "name": "stderr",
     "output_type": "stream",
     "text": [
      " 78%|███████▊  | 392/500 [15:17<01:25,  1.27it/s]"
     ]
    },
    {
     "name": "stdout",
     "output_type": "stream",
     "text": [
      "[Fallback] Searching for: Ishikawajima-Harima\n"
     ]
    },
    {
     "name": "stderr",
     "output_type": "stream",
     "text": [
      " 79%|███████▉  | 394/500 [15:19<01:36,  1.10it/s]"
     ]
    },
    {
     "name": "stdout",
     "output_type": "stream",
     "text": [
      "[Fallback] Searching for: Taiyo Life Insurance\n"
     ]
    },
    {
     "name": "stderr",
     "output_type": "stream",
     "text": [
      " 79%|███████▉  | 395/500 [15:20<01:48,  1.04s/it]"
     ]
    },
    {
     "name": "stdout",
     "output_type": "stream",
     "text": [
      "[Fallback] Searching for: CBD-Brasil Distribuieco\n",
      "No Wikipedia content found for: CBD-Brasil Distribuieco\n"
     ]
    },
    {
     "name": "stderr",
     "output_type": "stream",
     "text": [
      " 79%|███████▉  | 396/500 [15:21<01:50,  1.06s/it]"
     ]
    },
    {
     "name": "stdout",
     "output_type": "stream",
     "text": [
      "[Warning] Response not in categories: Other\n"
     ]
    },
    {
     "name": "stderr",
     "output_type": "stream",
     "text": [
      " 80%|████████  | 400/500 [15:24<01:18,  1.28it/s]"
     ]
    },
    {
     "name": "stdout",
     "output_type": "stream",
     "text": [
      "[Fallback] Searching for: Scientific-Atlanta\n"
     ]
    },
    {
     "name": "stderr",
     "output_type": "stream",
     "text": [
      " 80%|████████  | 402/500 [15:26<01:26,  1.13it/s]"
     ]
    },
    {
     "name": "stdout",
     "output_type": "stream",
     "text": [
      "[Fallback] Searching for: Yamanashi Chou Bank\n"
     ]
    },
    {
     "name": "stderr",
     "output_type": "stream",
     "text": [
      " 81%|████████  | 404/500 [15:28<01:29,  1.07it/s]"
     ]
    },
    {
     "name": "stdout",
     "output_type": "stream",
     "text": [
      "[Warning] Response not in categories: Other\n",
      "[Fallback] Searching for: Kumho Industrial\n"
     ]
    },
    {
     "name": "stderr",
     "output_type": "stream",
     "text": [
      "Retrying langchain_google_genai.chat_models._chat_with_retry.<locals>._chat_with_retry in 2.0 seconds as it raised ResourceExhausted: 429 You exceeded your current quota, please check your plan and billing details. For more information on this error, head to: https://ai.google.dev/gemini-api/docs/rate-limits. [violations {\n",
      "  quota_metric: \"generativelanguage.googleapis.com/generate_content_free_tier_requests\"\n",
      "  quota_id: \"GenerateRequestsPerMinutePerProjectPerModel-FreeTier\"\n",
      "  quota_dimensions {\n",
      "    key: \"model\"\n",
      "    value: \"gemini-2.0-flash-lite\"\n",
      "  }\n",
      "  quota_dimensions {\n",
      "    key: \"location\"\n",
      "    value: \"global\"\n",
      "  }\n",
      "  quota_value: 30\n",
      "}\n",
      ", links {\n",
      "  description: \"Learn more about Gemini API quotas\"\n",
      "  url: \"https://ai.google.dev/gemini-api/docs/rate-limits\"\n",
      "}\n",
      ", retry_delay {\n",
      "  seconds: 30\n",
      "}\n",
      "].\n"
     ]
    },
    {
     "name": "stdout",
     "output_type": "stream",
     "text": [
      "Rate limit hit. Retrying in 60.0s (attempt 1/5)...\n",
      "[Fallback] Searching for: Kumho Industrial\n"
     ]
    },
    {
     "name": "stderr",
     "output_type": "stream",
     "text": [
      " 81%|████████  | 406/500 [16:33<22:14, 14.20s/it]"
     ]
    },
    {
     "name": "stdout",
     "output_type": "stream",
     "text": [
      "[Fallback] Searching for: Sumitomo Heavy Inds\n"
     ]
    },
    {
     "name": "stderr",
     "output_type": "stream",
     "text": [
      " 82%|████████▏ | 411/500 [16:37<04:26,  3.00s/it]"
     ]
    },
    {
     "name": "stdout",
     "output_type": "stream",
     "text": [
      "[Fallback] Searching for: FIBI Holding\n"
     ]
    },
    {
     "name": "stderr",
     "output_type": "stream",
     "text": [
      " 83%|████████▎ | 415/500 [16:41<01:52,  1.32s/it]"
     ]
    },
    {
     "name": "stdout",
     "output_type": "stream",
     "text": [
      "[Warning] Response not in categories: Other\n"
     ]
    },
    {
     "name": "stderr",
     "output_type": "stream",
     "text": [
      " 83%|████████▎ | 417/500 [16:42<01:27,  1.05s/it]"
     ]
    },
    {
     "name": "stdout",
     "output_type": "stream",
     "text": [
      "[Fallback] Searching for: Electronic Data Sys\n"
     ]
    },
    {
     "name": "stderr",
     "output_type": "stream",
     "text": [
      " 85%|████████▌ | 426/500 [16:50<00:54,  1.36it/s]"
     ]
    },
    {
     "name": "stdout",
     "output_type": "stream",
     "text": [
      "[Fallback] Searching for: Custodia Holding\n"
     ]
    },
    {
     "name": "stderr",
     "output_type": "stream",
     "text": [
      " 86%|████████▋ | 432/500 [16:54<00:48,  1.40it/s]"
     ]
    },
    {
     "name": "stdout",
     "output_type": "stream",
     "text": [
      "[Warning] Response not in categories: Other\n"
     ]
    },
    {
     "name": "stderr",
     "output_type": "stream",
     "text": [
      " 87%|████████▋ | 433/500 [16:55<00:47,  1.40it/s]"
     ]
    },
    {
     "name": "stdout",
     "output_type": "stream",
     "text": [
      "[Fallback] Searching for: Community Health Sys\n"
     ]
    },
    {
     "name": "stderr",
     "output_type": "stream",
     "text": [
      " 87%|████████▋ | 435/500 [16:57<00:54,  1.19it/s]Retrying langchain_google_genai.chat_models._chat_with_retry.<locals>._chat_with_retry in 2.0 seconds as it raised ResourceExhausted: 429 You exceeded your current quota, please check your plan and billing details. For more information on this error, head to: https://ai.google.dev/gemini-api/docs/rate-limits. [violations {\n",
      "  quota_metric: \"generativelanguage.googleapis.com/generate_content_free_tier_requests\"\n",
      "  quota_id: \"GenerateRequestsPerMinutePerProjectPerModel-FreeTier\"\n",
      "  quota_dimensions {\n",
      "    key: \"model\"\n",
      "    value: \"gemini-2.0-flash-lite\"\n",
      "  }\n",
      "  quota_dimensions {\n",
      "    key: \"location\"\n",
      "    value: \"global\"\n",
      "  }\n",
      "  quota_value: 30\n",
      "}\n",
      ", links {\n",
      "  description: \"Learn more about Gemini API quotas\"\n",
      "  url: \"https://ai.google.dev/gemini-api/docs/rate-limits\"\n",
      "}\n",
      ", retry_delay {\n",
      "  seconds: 1\n",
      "}\n",
      "].\n"
     ]
    },
    {
     "name": "stdout",
     "output_type": "stream",
     "text": [
      "Rate limit hit. Retrying in 60.0s (attempt 1/5)...\n"
     ]
    },
    {
     "name": "stderr",
     "output_type": "stream",
     "text": [
      " 87%|████████▋ | 437/500 [18:01<14:34, 13.88s/it]"
     ]
    },
    {
     "name": "stdout",
     "output_type": "stream",
     "text": [
      "[Fallback] Searching for: Downey Financial\n"
     ]
    },
    {
     "name": "stderr",
     "output_type": "stream",
     "text": [
      " 88%|████████▊ | 438/500 [18:02<10:30, 10.17s/it]"
     ]
    },
    {
     "name": "stdout",
     "output_type": "stream",
     "text": [
      "[Warning] Response not in categories: Other\n"
     ]
    },
    {
     "name": "stderr",
     "output_type": "stream",
     "text": [
      " 88%|████████▊ | 440/500 [18:04<05:19,  5.33s/it]"
     ]
    },
    {
     "name": "stdout",
     "output_type": "stream",
     "text": [
      "[Fallback] Searching for: Industrivarden\n"
     ]
    },
    {
     "name": "stderr",
     "output_type": "stream",
     "text": [
      " 89%|████████▉ | 445/500 [18:08<01:23,  1.52s/it]"
     ]
    },
    {
     "name": "stdout",
     "output_type": "stream",
     "text": [
      "[Fallback] Searching for: Hillenbrand Inds\n"
     ]
    },
    {
     "name": "stderr",
     "output_type": "stream",
     "text": [
      " 89%|████████▉ | 446/500 [18:09<01:19,  1.47s/it]"
     ]
    },
    {
     "name": "stdout",
     "output_type": "stream",
     "text": [
      "[Warning] Response not in categories: Other\n"
     ]
    },
    {
     "name": "stderr",
     "output_type": "stream",
     "text": [
      " 90%|█████████ | 450/500 [18:12<00:46,  1.08it/s]"
     ]
    },
    {
     "name": "stdout",
     "output_type": "stream",
     "text": [
      "[Fallback] Searching for: Impac Mortgage Holding\n"
     ]
    },
    {
     "name": "stderr",
     "output_type": "stream",
     "text": [
      " 92%|█████████▏| 459/500 [18:20<00:33,  1.24it/s]"
     ]
    },
    {
     "name": "stdout",
     "output_type": "stream",
     "text": [
      "[Warning] Response not in categories: Other\n"
     ]
    },
    {
     "name": "stderr",
     "output_type": "stream",
     "text": [
      " 92%|█████████▏| 462/500 [18:22<00:28,  1.33it/s]"
     ]
    },
    {
     "name": "stdout",
     "output_type": "stream",
     "text": [
      "[Fallback] Searching for: Axis Capital Holdings\n"
     ]
    },
    {
     "name": "stderr",
     "output_type": "stream",
     "text": [
      " 93%|█████████▎| 465/500 [18:25<00:27,  1.25it/s]"
     ]
    },
    {
     "name": "stdout",
     "output_type": "stream",
     "text": [
      "[Fallback] Searching for: Hon Hai Precision Ind\n"
     ]
    },
    {
     "name": "stderr",
     "output_type": "stream",
     "text": [
      " 93%|█████████▎| 466/500 [18:26<00:32,  1.06it/s]Retrying langchain_google_genai.chat_models._chat_with_retry.<locals>._chat_with_retry in 2.0 seconds as it raised ResourceExhausted: 429 You exceeded your current quota, please check your plan and billing details. For more information on this error, head to: https://ai.google.dev/gemini-api/docs/rate-limits. [violations {\n",
      "  quota_metric: \"generativelanguage.googleapis.com/generate_content_free_tier_requests\"\n",
      "  quota_id: \"GenerateRequestsPerMinutePerProjectPerModel-FreeTier\"\n",
      "  quota_dimensions {\n",
      "    key: \"model\"\n",
      "    value: \"gemini-2.0-flash-lite\"\n",
      "  }\n",
      "  quota_dimensions {\n",
      "    key: \"location\"\n",
      "    value: \"global\"\n",
      "  }\n",
      "  quota_value: 30\n",
      "}\n",
      ", links {\n",
      "  description: \"Learn more about Gemini API quotas\"\n",
      "  url: \"https://ai.google.dev/gemini-api/docs/rate-limits\"\n",
      "}\n",
      ", retry_delay {\n",
      "  seconds: 32\n",
      "}\n",
      "].\n"
     ]
    },
    {
     "name": "stdout",
     "output_type": "stream",
     "text": [
      "Rate limit hit. Retrying in 60.0s (attempt 1/5)...\n"
     ]
    },
    {
     "name": "stderr",
     "output_type": "stream",
     "text": [
      " 93%|█████████▎| 467/500 [19:29<10:45, 19.55s/it]"
     ]
    },
    {
     "name": "stdout",
     "output_type": "stream",
     "text": [
      "[Fallback] Searching for: Nextel Commun\n"
     ]
    },
    {
     "name": "stderr",
     "output_type": "stream",
     "text": [
      " 94%|█████████▎| 468/500 [19:31<07:32, 14.15s/it]"
     ]
    },
    {
     "name": "stdout",
     "output_type": "stream",
     "text": [
      "[Fallback] Searching for: Sumisho Lease\n"
     ]
    },
    {
     "name": "stderr",
     "output_type": "stream",
     "text": [
      " 95%|█████████▍| 473/500 [19:35<01:21,  3.04s/it]"
     ]
    },
    {
     "name": "stdout",
     "output_type": "stream",
     "text": [
      "[Fallback] Searching for: Dentsply Intl\n"
     ]
    },
    {
     "name": "stderr",
     "output_type": "stream",
     "text": [
      " 95%|█████████▌| 475/500 [19:37<00:49,  1.99s/it]"
     ]
    },
    {
     "name": "stdout",
     "output_type": "stream",
     "text": [
      "[Fallback] Searching for: Shenzhen Development Bk\n"
     ]
    },
    {
     "name": "stderr",
     "output_type": "stream",
     "text": [
      " 95%|█████████▌| 477/500 [19:39<00:33,  1.45s/it]"
     ]
    },
    {
     "name": "stdout",
     "output_type": "stream",
     "text": [
      "[Warning] Response not in categories: Other\n"
     ]
    },
    {
     "name": "stderr",
     "output_type": "stream",
     "text": [
      " 96%|█████████▌| 479/500 [19:40<00:22,  1.05s/it]"
     ]
    },
    {
     "name": "stdout",
     "output_type": "stream",
     "text": [
      "[Warning] Response not in categories: Other\n"
     ]
    },
    {
     "name": "stderr",
     "output_type": "stream",
     "text": [
      " 96%|█████████▌| 481/500 [19:41<00:16,  1.16it/s]"
     ]
    },
    {
     "name": "stdout",
     "output_type": "stream",
     "text": [
      "[Fallback] Searching for: Mitsui Sumitomo Ins\n"
     ]
    },
    {
     "name": "stderr",
     "output_type": "stream",
     "text": [
      " 97%|█████████▋| 484/500 [19:44<00:13,  1.20it/s]"
     ]
    },
    {
     "name": "stdout",
     "output_type": "stream",
     "text": [
      "[Fallback] Searching for: Dah Sing Financial\n"
     ]
    },
    {
     "name": "stderr",
     "output_type": "stream",
     "text": [
      " 98%|█████████▊| 490/500 [19:49<00:07,  1.40it/s]"
     ]
    },
    {
     "name": "stdout",
     "output_type": "stream",
     "text": [
      "[Fallback] Searching for: IFIL\n"
     ]
    },
    {
     "name": "stderr",
     "output_type": "stream",
     "text": [
      " 98%|█████████▊| 491/500 [19:51<00:10,  1.12s/it]"
     ]
    },
    {
     "name": "stdout",
     "output_type": "stream",
     "text": [
      "[Warning] Response not in categories: Other\n"
     ]
    },
    {
     "name": "stderr",
     "output_type": "stream",
     "text": [
      "100%|█████████▉| 499/500 [19:56<00:00,  1.31it/s]Retrying langchain_google_genai.chat_models._chat_with_retry.<locals>._chat_with_retry in 2.0 seconds as it raised ResourceExhausted: 429 You exceeded your current quota, please check your plan and billing details. For more information on this error, head to: https://ai.google.dev/gemini-api/docs/rate-limits. [violations {\n",
      "  quota_metric: \"generativelanguage.googleapis.com/generate_content_free_tier_requests\"\n",
      "  quota_id: \"GenerateRequestsPerMinutePerProjectPerModel-FreeTier\"\n",
      "  quota_dimensions {\n",
      "    key: \"model\"\n",
      "    value: \"gemini-2.0-flash-lite\"\n",
      "  }\n",
      "  quota_dimensions {\n",
      "    key: \"location\"\n",
      "    value: \"global\"\n",
      "  }\n",
      "  quota_value: 30\n",
      "}\n",
      ", links {\n",
      "  description: \"Learn more about Gemini API quotas\"\n",
      "  url: \"https://ai.google.dev/gemini-api/docs/rate-limits\"\n",
      "}\n",
      ", retry_delay {\n",
      "  seconds: 2\n",
      "}\n",
      "].\n"
     ]
    },
    {
     "name": "stdout",
     "output_type": "stream",
     "text": [
      "Rate limit hit. Retrying in 60.0s (attempt 1/5)...\n"
     ]
    },
    {
     "name": "stderr",
     "output_type": "stream",
     "text": [
      "100%|██████████| 500/500 [21:00<00:00,  2.52s/it]\n"
     ]
    }
   ],
   "source": [
    "result_with_description = []\n",
    "for name in tqdm(test_df[\"COMPANY\"]):\n",
    "    result_with_description.append(\n",
    "        safe_llm_call(name, model, get_description=True)\n",
    "    )"
   ]
  },
  {
   "cell_type": "code",
   "execution_count": 21,
   "id": "ebccb0e8",
   "metadata": {},
   "outputs": [
    {
     "data": {
      "text/plain": [
       "0.726"
      ]
     },
     "execution_count": 21,
     "metadata": {},
     "output_type": "execute_result"
    }
   ],
   "source": [
    "test_df['PRED_CATEGORY_WITH_DESC'] = result_with_description\n",
    "np.mean(test_df['PRED_CATEGORY_WITH_DESC'] == test_df['CATEGORY'])"
   ]
  },
  {
   "cell_type": "code",
   "execution_count": null,
   "id": "4f3dc042",
   "metadata": {},
   "outputs": [
    {
     "data": {
      "text/plain": [
       "({'f1': 0.7877742767754623,\n",
       "  'precision': 0.7555683842009833,\n",
       "  'recall': 0.7164840052454159,\n",
       "  'accuracy': 0.776},\n",
       " {'f1': 0.744093026198812,\n",
       "  'precision': 0.7506080085704225,\n",
       "  'recall': 0.6540583380457584,\n",
       "  'accuracy': 0.726},\n",
       " {'f1': 0.018394217175705593,\n",
       "  'precision': 0.02224683289447747,\n",
       "  'recall': 0.023030516303994213,\n",
       "  'accuracy': 0.018341162885706034},\n",
       " {'f1': 0.020024022685492627,\n",
       "  'precision': 0.028331083999983624,\n",
       "  'recall': 0.025402954664524163,\n",
       "  'accuracy': 0.019669155955454733})"
      ]
     },
     "execution_count": 50,
     "metadata": {},
     "output_type": "execute_result"
    }
   ],
   "source": [
    "# bootstrap standard error for confidence intervals\n",
    "from src.eval import calculate_metrics, calculate_ste_metrics_with_bootstrap\n",
    "from sklearn.preprocessing import LabelEncoder\n",
    "\n",
    "    \n",
    "y_true = test_df['CATEGORY'].values\n",
    "# First, identify unique classes including the 'Other' class in predictions\n",
    "all_classes = np.unique(np.concatenate([\n",
    "    y_true,\n",
    "    test_df['PRED_CATEGORY_NO_DESC'].values,\n",
    "    test_df['PRED_CATEGORY_WITH_DESC'].values\n",
    "]))\n",
    "\n",
    "# Create a label encoder that includes all classes\n",
    "le = LabelEncoder()\n",
    "le.fit(all_classes)\n",
    "\n",
    "# Encode all arrays\n",
    "y_true_encoded = le.transform(y_true)\n",
    "y_pred_no_desc = le.transform(test_df['PRED_CATEGORY_NO_DESC'].values)\n",
    "y_pred_with_desc = le.transform(test_df['PRED_CATEGORY_WITH_DESC'].values)\n",
    "\n",
    "# Now we can calculate metrics with properly encoded labels\n",
    "metrics_no_desc = calculate_metrics(y_true_encoded, y_pred_no_desc)\n",
    "metrics_with_desc = calculate_metrics(y_true_encoded, y_pred_with_desc)\n",
    "\n",
    "# Calculate bootstrap standard errors\n",
    "ste_no_desc = calculate_ste_metrics_with_bootstrap(y_true_encoded, y_pred_no_desc)\n",
    "ste_with_desc = calculate_ste_metrics_with_bootstrap(y_true_encoded, y_pred_with_desc)\n",
    "\n",
    "# Display results\n",
    "metrics_no_desc, metrics_with_desc, ste_no_desc, ste_with_desc\n"
   ]
  },
  {
   "cell_type": "code",
   "execution_count": 51,
   "id": "a8f2cd56",
   "metadata": {},
   "outputs": [
    {
     "name": "stdout",
     "output_type": "stream",
     "text": [
      "f1: 0.7878 ± 0.0184 (no desc)\n",
      "f1: 0.7441 ± 0.0200 (with desc)\n",
      "\n",
      "precision: 0.7556 ± 0.0222 (no desc)\n",
      "precision: 0.7506 ± 0.0283 (with desc)\n",
      "\n",
      "recall: 0.7165 ± 0.0230 (no desc)\n",
      "recall: 0.6541 ± 0.0254 (with desc)\n",
      "\n",
      "accuracy: 0.7760 ± 0.0183 (no desc)\n",
      "accuracy: 0.7260 ± 0.0197 (with desc)\n",
      "\n"
     ]
    }
   ],
   "source": [
    "# print nicely the results with bootstrap standard errors\n",
    "for key in metrics_no_desc.keys():\n",
    "    print(f\"{key}: {metrics_no_desc[key]:.4f} ± {ste_no_desc[key]:.4f} (no desc)\")\n",
    "    print(f\"{key}: {metrics_with_desc[key]:.4f} ± {ste_with_desc[key]:.4f} (with desc)\")\n",
    "    print()\n",
    "\n",
    "# for key in metrics_with_desc.keys():\n",
    "#     print(f\"{key}: {metrics_with_desc[key]:.4f} ± {ste_with_desc[key]:.4f} (with desc)\")\n",
    "#     print(f\"{key}: {metrics_no_desc[key]:.4f} ± {ste_no_desc[key]:.4f} (no desc)\")\n",
    "#     print()\n"
   ]
  },
  {
   "cell_type": "code",
   "execution_count": 25,
   "id": "a969c6e0",
   "metadata": {},
   "outputs": [
    {
     "data": {
      "text/plain": [
       "(0, 0)"
      ]
     },
     "execution_count": 25,
     "metadata": {},
     "output_type": "execute_result"
    }
   ],
   "source": [
    "np.sum(test_df['PRED_CATEGORY_WITH_DESC'] == 'n/a'), np.sum(test_df['PRED_CATEGORY_NO_DESC'] == 'n/a'),"
   ]
  },
  {
   "cell_type": "markdown",
   "id": "599b46d3",
   "metadata": {},
   "source": [
    "See how many of the prediction are the same."
   ]
  },
  {
   "cell_type": "code",
   "execution_count": 26,
   "id": "b68550cb",
   "metadata": {},
   "outputs": [
    {
     "data": {
      "text/plain": [
       "0.808"
      ]
     },
     "execution_count": 26,
     "metadata": {},
     "output_type": "execute_result"
    }
   ],
   "source": [
    "np.mean(test_df['PRED_CATEGORY_NO_DESC'] == test_df['PRED_CATEGORY_WITH_DESC'])"
   ]
  },
  {
   "cell_type": "code",
   "execution_count": 28,
   "id": "62cc2ce2",
   "metadata": {},
   "outputs": [
    {
     "data": {
      "application/vnd.microsoft.datawrangler.viewer.v0+json": {
       "columns": [
        {
         "name": "index",
         "rawType": "int64",
         "type": "integer"
        },
        {
         "name": "COMPANY",
         "rawType": "object",
         "type": "string"
        },
        {
         "name": "CATEGORY",
         "rawType": "object",
         "type": "string"
        },
        {
         "name": "PRED_CATEGORY_NO_DESC",
         "rawType": "object",
         "type": "string"
        },
        {
         "name": "PRED_CATEGORY_WITH_DESC",
         "rawType": "object",
         "type": "string"
        }
       ],
       "conversionMethod": "pd.DataFrame",
       "ref": "711be4a1-5e2b-450b-8f78-338500cda687",
       "rows": [
        [
         "754",
         "MTR",
         "Transportation",
         "Hotels restaurants & leisure",
         "Transportation"
        ],
        [
         "1034",
         "Nippon Mining",
         "Oil & gas operations",
         "Materials",
         "Oil & gas operations"
        ],
        [
         "1133",
         "Apollo-Education Group",
         "Business services & supplies",
         "Other",
         "Business services & supplies"
        ],
        [
         "1964",
         "Valiant Holding",
         "Banking",
         "Insurance",
         "Banking"
        ],
        [
         "1268",
         "Avnet",
         "Technology hardware & equipment",
         "Trading companies",
         "Technology hardware & equipment"
        ],
        [
         "642",
         "MAN Group",
         "Capital goods",
         "Trading companies",
         "Capital goods"
        ],
        [
         "1158",
         "China Development Finl",
         "Banking",
         "Diversified financials",
         "Banking"
        ],
        [
         "670",
         "Capitalia",
         "Banking",
         "Other",
         "Banking"
        ],
        [
         "1293",
         "PMI Group",
         "Insurance",
         "Other",
         "Insurance"
        ],
        [
         "1969",
         "Performance Food",
         "Food markets",
         "Food drink & tobacco",
         "Food markets"
        ],
        [
         "1683",
         "Grupo Financiero Inbursa",
         "Banking",
         "Diversified financials",
         "Banking"
        ],
        [
         "1476",
         "Nurnberger Beteiligungs",
         "Insurance",
         "Other",
         "Insurance"
        ],
        [
         "197",
         "Aetna",
         "Health care equipment & services",
         "Insurance",
         "Health care equipment & services"
        ],
        [
         "1408",
         "Kumho Industrial",
         "Consumer durables",
         "Chemicals",
         "Consumer durables"
        ],
        [
         "646",
         "Electronic Data Sys",
         "Software & services",
         "Business services & supplies",
         "Software & services"
        ],
        [
         "1222",
         "Hankyu",
         "Transportation",
         "Hotels restaurants & leisure",
         "Transportation"
        ],
        [
         "1073",
         "Axis Capital Holdings",
         "Insurance",
         "Diversified financials",
         "Insurance"
        ],
        [
         "389",
         "Woori Finance Holdings",
         "Banking",
         "Diversified financials",
         "Banking"
        ],
        [
         "20",
         "DaimlerChrysler",
         "Consumer durables",
         "Conglomerates",
         "Consumer durables"
        ],
        [
         "1901",
         "Dah Sing Financial",
         "Banking",
         "Diversified financials",
         "Banking"
        ]
       ],
       "shape": {
        "columns": 4,
        "rows": 20
       }
      },
      "text/html": [
       "<div>\n",
       "<style scoped>\n",
       "    .dataframe tbody tr th:only-of-type {\n",
       "        vertical-align: middle;\n",
       "    }\n",
       "\n",
       "    .dataframe tbody tr th {\n",
       "        vertical-align: top;\n",
       "    }\n",
       "\n",
       "    .dataframe thead th {\n",
       "        text-align: right;\n",
       "    }\n",
       "</style>\n",
       "<table border=\"1\" class=\"dataframe\">\n",
       "  <thead>\n",
       "    <tr style=\"text-align: right;\">\n",
       "      <th></th>\n",
       "      <th>COMPANY</th>\n",
       "      <th>CATEGORY</th>\n",
       "      <th>PRED_CATEGORY_NO_DESC</th>\n",
       "      <th>PRED_CATEGORY_WITH_DESC</th>\n",
       "    </tr>\n",
       "  </thead>\n",
       "  <tbody>\n",
       "    <tr>\n",
       "      <th>754</th>\n",
       "      <td>MTR</td>\n",
       "      <td>Transportation</td>\n",
       "      <td>Hotels restaurants &amp; leisure</td>\n",
       "      <td>Transportation</td>\n",
       "    </tr>\n",
       "    <tr>\n",
       "      <th>1034</th>\n",
       "      <td>Nippon Mining</td>\n",
       "      <td>Oil &amp; gas operations</td>\n",
       "      <td>Materials</td>\n",
       "      <td>Oil &amp; gas operations</td>\n",
       "    </tr>\n",
       "    <tr>\n",
       "      <th>1133</th>\n",
       "      <td>Apollo-Education Group</td>\n",
       "      <td>Business services &amp; supplies</td>\n",
       "      <td>Other</td>\n",
       "      <td>Business services &amp; supplies</td>\n",
       "    </tr>\n",
       "    <tr>\n",
       "      <th>1964</th>\n",
       "      <td>Valiant Holding</td>\n",
       "      <td>Banking</td>\n",
       "      <td>Insurance</td>\n",
       "      <td>Banking</td>\n",
       "    </tr>\n",
       "    <tr>\n",
       "      <th>1268</th>\n",
       "      <td>Avnet</td>\n",
       "      <td>Technology hardware &amp; equipment</td>\n",
       "      <td>Trading companies</td>\n",
       "      <td>Technology hardware &amp; equipment</td>\n",
       "    </tr>\n",
       "    <tr>\n",
       "      <th>642</th>\n",
       "      <td>MAN Group</td>\n",
       "      <td>Capital goods</td>\n",
       "      <td>Trading companies</td>\n",
       "      <td>Capital goods</td>\n",
       "    </tr>\n",
       "    <tr>\n",
       "      <th>1158</th>\n",
       "      <td>China Development Finl</td>\n",
       "      <td>Banking</td>\n",
       "      <td>Diversified financials</td>\n",
       "      <td>Banking</td>\n",
       "    </tr>\n",
       "    <tr>\n",
       "      <th>670</th>\n",
       "      <td>Capitalia</td>\n",
       "      <td>Banking</td>\n",
       "      <td>Other</td>\n",
       "      <td>Banking</td>\n",
       "    </tr>\n",
       "    <tr>\n",
       "      <th>1293</th>\n",
       "      <td>PMI Group</td>\n",
       "      <td>Insurance</td>\n",
       "      <td>Other</td>\n",
       "      <td>Insurance</td>\n",
       "    </tr>\n",
       "    <tr>\n",
       "      <th>1969</th>\n",
       "      <td>Performance Food</td>\n",
       "      <td>Food markets</td>\n",
       "      <td>Food drink &amp; tobacco</td>\n",
       "      <td>Food markets</td>\n",
       "    </tr>\n",
       "    <tr>\n",
       "      <th>1683</th>\n",
       "      <td>Grupo Financiero Inbursa</td>\n",
       "      <td>Banking</td>\n",
       "      <td>Diversified financials</td>\n",
       "      <td>Banking</td>\n",
       "    </tr>\n",
       "    <tr>\n",
       "      <th>1476</th>\n",
       "      <td>Nurnberger Beteiligungs</td>\n",
       "      <td>Insurance</td>\n",
       "      <td>Other</td>\n",
       "      <td>Insurance</td>\n",
       "    </tr>\n",
       "    <tr>\n",
       "      <th>197</th>\n",
       "      <td>Aetna</td>\n",
       "      <td>Health care equipment &amp; services</td>\n",
       "      <td>Insurance</td>\n",
       "      <td>Health care equipment &amp; services</td>\n",
       "    </tr>\n",
       "    <tr>\n",
       "      <th>1408</th>\n",
       "      <td>Kumho Industrial</td>\n",
       "      <td>Consumer durables</td>\n",
       "      <td>Chemicals</td>\n",
       "      <td>Consumer durables</td>\n",
       "    </tr>\n",
       "    <tr>\n",
       "      <th>646</th>\n",
       "      <td>Electronic Data Sys</td>\n",
       "      <td>Software &amp; services</td>\n",
       "      <td>Business services &amp; supplies</td>\n",
       "      <td>Software &amp; services</td>\n",
       "    </tr>\n",
       "    <tr>\n",
       "      <th>1222</th>\n",
       "      <td>Hankyu</td>\n",
       "      <td>Transportation</td>\n",
       "      <td>Hotels restaurants &amp; leisure</td>\n",
       "      <td>Transportation</td>\n",
       "    </tr>\n",
       "    <tr>\n",
       "      <th>1073</th>\n",
       "      <td>Axis Capital Holdings</td>\n",
       "      <td>Insurance</td>\n",
       "      <td>Diversified financials</td>\n",
       "      <td>Insurance</td>\n",
       "    </tr>\n",
       "    <tr>\n",
       "      <th>389</th>\n",
       "      <td>Woori Finance Holdings</td>\n",
       "      <td>Banking</td>\n",
       "      <td>Diversified financials</td>\n",
       "      <td>Banking</td>\n",
       "    </tr>\n",
       "    <tr>\n",
       "      <th>20</th>\n",
       "      <td>DaimlerChrysler</td>\n",
       "      <td>Consumer durables</td>\n",
       "      <td>Conglomerates</td>\n",
       "      <td>Consumer durables</td>\n",
       "    </tr>\n",
       "    <tr>\n",
       "      <th>1901</th>\n",
       "      <td>Dah Sing Financial</td>\n",
       "      <td>Banking</td>\n",
       "      <td>Diversified financials</td>\n",
       "      <td>Banking</td>\n",
       "    </tr>\n",
       "  </tbody>\n",
       "</table>\n",
       "</div>"
      ],
      "text/plain": [
       "                       COMPANY                          CATEGORY  \\\n",
       "754                        MTR                    Transportation   \n",
       "1034             Nippon Mining              Oil & gas operations   \n",
       "1133    Apollo-Education Group      Business services & supplies   \n",
       "1964           Valiant Holding                           Banking   \n",
       "1268                     Avnet   Technology hardware & equipment   \n",
       "642                  MAN Group                     Capital goods   \n",
       "1158    China Development Finl                           Banking   \n",
       "670                  Capitalia                           Banking   \n",
       "1293                 PMI Group                         Insurance   \n",
       "1969          Performance Food                      Food markets   \n",
       "1683  Grupo Financiero Inbursa                           Banking   \n",
       "1476   Nurnberger Beteiligungs                         Insurance   \n",
       "197                      Aetna  Health care equipment & services   \n",
       "1408          Kumho Industrial                 Consumer durables   \n",
       "646        Electronic Data Sys               Software & services   \n",
       "1222                    Hankyu                    Transportation   \n",
       "1073     Axis Capital Holdings                         Insurance   \n",
       "389     Woori Finance Holdings                           Banking   \n",
       "20             DaimlerChrysler                 Consumer durables   \n",
       "1901        Dah Sing Financial                           Banking   \n",
       "\n",
       "             PRED_CATEGORY_NO_DESC           PRED_CATEGORY_WITH_DESC  \n",
       "754   Hotels restaurants & leisure                    Transportation  \n",
       "1034                     Materials              Oil & gas operations  \n",
       "1133                         Other      Business services & supplies  \n",
       "1964                     Insurance                           Banking  \n",
       "1268             Trading companies   Technology hardware & equipment  \n",
       "642              Trading companies                     Capital goods  \n",
       "1158        Diversified financials                           Banking  \n",
       "670                          Other                           Banking  \n",
       "1293                         Other                         Insurance  \n",
       "1969          Food drink & tobacco                      Food markets  \n",
       "1683        Diversified financials                           Banking  \n",
       "1476                         Other                         Insurance  \n",
       "197                      Insurance  Health care equipment & services  \n",
       "1408                     Chemicals                 Consumer durables  \n",
       "646   Business services & supplies               Software & services  \n",
       "1222  Hotels restaurants & leisure                    Transportation  \n",
       "1073        Diversified financials                         Insurance  \n",
       "389         Diversified financials                           Banking  \n",
       "20                   Conglomerates                 Consumer durables  \n",
       "1901        Diversified financials                           Banking  "
      ]
     },
     "execution_count": 28,
     "metadata": {},
     "output_type": "execute_result"
    }
   ],
   "source": [
    "mask = (test_df['PRED_CATEGORY_NO_DESC'] != test_df['PRED_CATEGORY_WITH_DESC']) & (test_df['PRED_CATEGORY_NO_DESC'] != 'n/a') \\\n",
    "    & (test_df['PRED_CATEGORY_WITH_DESC'] == test_df['CATEGORY'])\n",
    "test_df[mask]"
   ]
  },
  {
   "cell_type": "code",
   "execution_count": 29,
   "id": "92808605",
   "metadata": {},
   "outputs": [
    {
     "data": {
      "application/vnd.microsoft.datawrangler.viewer.v0+json": {
       "columns": [
        {
         "name": "index",
         "rawType": "int64",
         "type": "integer"
        },
        {
         "name": "COMPANY",
         "rawType": "object",
         "type": "string"
        },
        {
         "name": "CATEGORY",
         "rawType": "object",
         "type": "string"
        },
        {
         "name": "PRED_CATEGORY_NO_DESC",
         "rawType": "object",
         "type": "string"
        },
        {
         "name": "PRED_CATEGORY_WITH_DESC",
         "rawType": "object",
         "type": "string"
        }
       ],
       "conversionMethod": "pd.DataFrame",
       "ref": "c10da321-e3c3-464d-8b7e-ab584db564c1",
       "rows": [
        [
         "568",
         "Pitney Bowes",
         "Business services & supplies",
         "Business services & supplies",
         "Technology hardware & equipment"
        ],
        [
         "218",
         "Bouygues Group",
         "Construction",
         "Construction",
         "Conglomerates"
        ],
        [
         "69",
         "Comcast",
         "Media",
         "Media",
         "Telecommunications services"
        ],
        [
         "1519",
         "Kawasho",
         "Trading companies",
         "Trading companies",
         "Media"
        ],
        [
         "1074",
         "Iberia",
         "Transportation",
         "Transportation",
         "Other"
        ],
        [
         "1462",
         "SEM-Samsung Electro",
         "Technology hardware & equipment",
         "Technology hardware & equipment",
         "Semiconductors"
        ],
        [
         "970",
         "Daikin Industries",
         "Capital goods",
         "Capital goods",
         "Technology hardware & equipment"
        ],
        [
         "935",
         "Kobe Steel",
         "Materials",
         "Materials",
         "Conglomerates"
        ],
        [
         "1314",
         "Level 3 Commun",
         "Telecommunications services",
         "Telecommunications services",
         "Other"
        ],
        [
         "348",
         "EMC",
         "Technology hardware & equipment",
         "Technology hardware & equipment",
         "Other"
        ],
        [
         "680",
         "Scania",
         "Capital goods",
         "Capital goods",
         "Other"
        ],
        [
         "764",
         "AES",
         "Utilities",
         "Utilities",
         "Other"
        ],
        [
         "1000",
         "Korea Gas",
         "Utilities",
         "Utilities",
         "Oil & gas operations"
        ],
        [
         "1177",
         "Hypo Real Estate Holding",
         "Diversified financials",
         "Diversified financials",
         "Banking"
        ],
        [
         "929",
         "Interpublic Group",
         "Media",
         "Media",
         "Business services & supplies"
        ],
        [
         "1695",
         "Regal Entertainment Group",
         "Media",
         "Media",
         "Hotels restaurants & leisure"
        ],
        [
         "614",
         "Thales",
         "Aerospace & defense",
         "Aerospace & defense",
         "Other"
        ],
        [
         "1671",
         "Bemis",
         "Materials",
         "Materials",
         "Other"
        ],
        [
         "440",
         "Apache",
         "Oil & gas operations",
         "Oil & gas operations",
         "Other"
        ],
        [
         "166",
         "Pinault-Printemps-Redoute",
         "Retailing",
         "Retailing",
         "Conglomerates"
        ],
        [
         "515",
         "Assoc British Foods",
         "Food drink & tobacco",
         "Food drink & tobacco",
         "Other"
        ],
        [
         "1756",
         "QLogic",
         "Semiconductors",
         "Semiconductors",
         "Technology hardware & equipment"
        ],
        [
         "1785",
         "Service Corp Intl",
         "Business services & supplies",
         "Business services & supplies",
         "Aerospace & defense"
        ],
        [
         "1508",
         "Toyoda Gosei",
         "Consumer durables",
         "Consumer durables",
         "Capital goods"
        ],
        [
         "860",
         "Fresenius",
         "Health care equipment & services",
         "Health care equipment & services",
         "Other"
        ],
        [
         "807",
         "Edison",
         "Utilities",
         "Utilities",
         "Technology hardware & equipment"
        ],
        [
         "1512",
         "William Hill Org",
         "Hotels restaurants & leisure",
         "Hotels restaurants & leisure",
         "Other"
        ],
        [
         "1687",
         "Genting",
         "Hotels restaurants & leisure",
         "Hotels restaurants & leisure",
         "Conglomerates"
        ],
        [
         "582",
         "WPP",
         "Media",
         "Media",
         "Business services & supplies"
        ],
        [
         "138",
         "Travelers Property Cas",
         "Insurance",
         "Insurance",
         "Drugs & biotechnology"
        ],
        [
         "1692",
         "Toda",
         "Construction",
         "Construction",
         "Other"
        ],
        [
         "589",
         "Lear",
         "Consumer durables",
         "Consumer durables",
         "Other"
        ],
        [
         "1394",
         "Fuji Electric",
         "Capital goods",
         "Capital goods",
         "Technology hardware & equipment"
        ],
        [
         "31",
         "Nestle",
         "Food drink & tobacco",
         "Food drink & tobacco",
         "Conglomerates"
        ],
        [
         "1143",
         "iStar Financial",
         "Diversified financials",
         "Diversified financials",
         "Hotels restaurants & leisure"
        ],
        [
         "958",
         "Mediobanca",
         "Diversified financials",
         "Diversified financials",
         "Banking"
        ],
        [
         "356",
         "Tribune",
         "Media",
         "Media",
         "Other"
        ],
        [
         "1709",
         "Downey Financial",
         "Banking",
         "Banking",
         "Other"
        ],
        [
         "1587",
         "Impac Mortgage Holding",
         "Diversified financials",
         "Diversified financials",
         "Banking"
        ],
        [
         "349",
         "Allianz Worldwide",
         "Insurance",
         "Insurance",
         "Health care equipment & services"
        ],
        [
         "643",
         "Continental",
         "Consumer durables",
         "Consumer durables",
         "Conglomerates"
        ],
        [
         "1832",
         "Salzgitter",
         "Materials",
         "Materials",
         "Other"
        ],
        [
         "1802",
         "CNF",
         "Transportation",
         "Transportation",
         "Other"
        ],
        [
         "276",
         "Mitsui Sumitomo Ins",
         "Insurance",
         "Insurance",
         "Telecommunications services"
        ],
        [
         "531",
         "Nintendo",
         "Consumer durables",
         "Consumer durables",
         "Technology hardware & equipment"
        ]
       ],
       "shape": {
        "columns": 4,
        "rows": 45
       }
      },
      "text/html": [
       "<div>\n",
       "<style scoped>\n",
       "    .dataframe tbody tr th:only-of-type {\n",
       "        vertical-align: middle;\n",
       "    }\n",
       "\n",
       "    .dataframe tbody tr th {\n",
       "        vertical-align: top;\n",
       "    }\n",
       "\n",
       "    .dataframe thead th {\n",
       "        text-align: right;\n",
       "    }\n",
       "</style>\n",
       "<table border=\"1\" class=\"dataframe\">\n",
       "  <thead>\n",
       "    <tr style=\"text-align: right;\">\n",
       "      <th></th>\n",
       "      <th>COMPANY</th>\n",
       "      <th>CATEGORY</th>\n",
       "      <th>PRED_CATEGORY_NO_DESC</th>\n",
       "      <th>PRED_CATEGORY_WITH_DESC</th>\n",
       "    </tr>\n",
       "  </thead>\n",
       "  <tbody>\n",
       "    <tr>\n",
       "      <th>568</th>\n",
       "      <td>Pitney Bowes</td>\n",
       "      <td>Business services &amp; supplies</td>\n",
       "      <td>Business services &amp; supplies</td>\n",
       "      <td>Technology hardware &amp; equipment</td>\n",
       "    </tr>\n",
       "    <tr>\n",
       "      <th>218</th>\n",
       "      <td>Bouygues Group</td>\n",
       "      <td>Construction</td>\n",
       "      <td>Construction</td>\n",
       "      <td>Conglomerates</td>\n",
       "    </tr>\n",
       "    <tr>\n",
       "      <th>69</th>\n",
       "      <td>Comcast</td>\n",
       "      <td>Media</td>\n",
       "      <td>Media</td>\n",
       "      <td>Telecommunications services</td>\n",
       "    </tr>\n",
       "    <tr>\n",
       "      <th>1519</th>\n",
       "      <td>Kawasho</td>\n",
       "      <td>Trading companies</td>\n",
       "      <td>Trading companies</td>\n",
       "      <td>Media</td>\n",
       "    </tr>\n",
       "    <tr>\n",
       "      <th>1074</th>\n",
       "      <td>Iberia</td>\n",
       "      <td>Transportation</td>\n",
       "      <td>Transportation</td>\n",
       "      <td>Other</td>\n",
       "    </tr>\n",
       "    <tr>\n",
       "      <th>1462</th>\n",
       "      <td>SEM-Samsung Electro</td>\n",
       "      <td>Technology hardware &amp; equipment</td>\n",
       "      <td>Technology hardware &amp; equipment</td>\n",
       "      <td>Semiconductors</td>\n",
       "    </tr>\n",
       "    <tr>\n",
       "      <th>970</th>\n",
       "      <td>Daikin Industries</td>\n",
       "      <td>Capital goods</td>\n",
       "      <td>Capital goods</td>\n",
       "      <td>Technology hardware &amp; equipment</td>\n",
       "    </tr>\n",
       "    <tr>\n",
       "      <th>935</th>\n",
       "      <td>Kobe Steel</td>\n",
       "      <td>Materials</td>\n",
       "      <td>Materials</td>\n",
       "      <td>Conglomerates</td>\n",
       "    </tr>\n",
       "    <tr>\n",
       "      <th>1314</th>\n",
       "      <td>Level 3 Commun</td>\n",
       "      <td>Telecommunications services</td>\n",
       "      <td>Telecommunications services</td>\n",
       "      <td>Other</td>\n",
       "    </tr>\n",
       "    <tr>\n",
       "      <th>348</th>\n",
       "      <td>EMC</td>\n",
       "      <td>Technology hardware &amp; equipment</td>\n",
       "      <td>Technology hardware &amp; equipment</td>\n",
       "      <td>Other</td>\n",
       "    </tr>\n",
       "    <tr>\n",
       "      <th>680</th>\n",
       "      <td>Scania</td>\n",
       "      <td>Capital goods</td>\n",
       "      <td>Capital goods</td>\n",
       "      <td>Other</td>\n",
       "    </tr>\n",
       "    <tr>\n",
       "      <th>764</th>\n",
       "      <td>AES</td>\n",
       "      <td>Utilities</td>\n",
       "      <td>Utilities</td>\n",
       "      <td>Other</td>\n",
       "    </tr>\n",
       "    <tr>\n",
       "      <th>1000</th>\n",
       "      <td>Korea Gas</td>\n",
       "      <td>Utilities</td>\n",
       "      <td>Utilities</td>\n",
       "      <td>Oil &amp; gas operations</td>\n",
       "    </tr>\n",
       "    <tr>\n",
       "      <th>1177</th>\n",
       "      <td>Hypo Real Estate Holding</td>\n",
       "      <td>Diversified financials</td>\n",
       "      <td>Diversified financials</td>\n",
       "      <td>Banking</td>\n",
       "    </tr>\n",
       "    <tr>\n",
       "      <th>929</th>\n",
       "      <td>Interpublic Group</td>\n",
       "      <td>Media</td>\n",
       "      <td>Media</td>\n",
       "      <td>Business services &amp; supplies</td>\n",
       "    </tr>\n",
       "    <tr>\n",
       "      <th>1695</th>\n",
       "      <td>Regal Entertainment Group</td>\n",
       "      <td>Media</td>\n",
       "      <td>Media</td>\n",
       "      <td>Hotels restaurants &amp; leisure</td>\n",
       "    </tr>\n",
       "    <tr>\n",
       "      <th>614</th>\n",
       "      <td>Thales</td>\n",
       "      <td>Aerospace &amp; defense</td>\n",
       "      <td>Aerospace &amp; defense</td>\n",
       "      <td>Other</td>\n",
       "    </tr>\n",
       "    <tr>\n",
       "      <th>1671</th>\n",
       "      <td>Bemis</td>\n",
       "      <td>Materials</td>\n",
       "      <td>Materials</td>\n",
       "      <td>Other</td>\n",
       "    </tr>\n",
       "    <tr>\n",
       "      <th>440</th>\n",
       "      <td>Apache</td>\n",
       "      <td>Oil &amp; gas operations</td>\n",
       "      <td>Oil &amp; gas operations</td>\n",
       "      <td>Other</td>\n",
       "    </tr>\n",
       "    <tr>\n",
       "      <th>166</th>\n",
       "      <td>Pinault-Printemps-Redoute</td>\n",
       "      <td>Retailing</td>\n",
       "      <td>Retailing</td>\n",
       "      <td>Conglomerates</td>\n",
       "    </tr>\n",
       "    <tr>\n",
       "      <th>515</th>\n",
       "      <td>Assoc British Foods</td>\n",
       "      <td>Food drink &amp; tobacco</td>\n",
       "      <td>Food drink &amp; tobacco</td>\n",
       "      <td>Other</td>\n",
       "    </tr>\n",
       "    <tr>\n",
       "      <th>1756</th>\n",
       "      <td>QLogic</td>\n",
       "      <td>Semiconductors</td>\n",
       "      <td>Semiconductors</td>\n",
       "      <td>Technology hardware &amp; equipment</td>\n",
       "    </tr>\n",
       "    <tr>\n",
       "      <th>1785</th>\n",
       "      <td>Service Corp Intl</td>\n",
       "      <td>Business services &amp; supplies</td>\n",
       "      <td>Business services &amp; supplies</td>\n",
       "      <td>Aerospace &amp; defense</td>\n",
       "    </tr>\n",
       "    <tr>\n",
       "      <th>1508</th>\n",
       "      <td>Toyoda Gosei</td>\n",
       "      <td>Consumer durables</td>\n",
       "      <td>Consumer durables</td>\n",
       "      <td>Capital goods</td>\n",
       "    </tr>\n",
       "    <tr>\n",
       "      <th>860</th>\n",
       "      <td>Fresenius</td>\n",
       "      <td>Health care equipment &amp; services</td>\n",
       "      <td>Health care equipment &amp; services</td>\n",
       "      <td>Other</td>\n",
       "    </tr>\n",
       "    <tr>\n",
       "      <th>807</th>\n",
       "      <td>Edison</td>\n",
       "      <td>Utilities</td>\n",
       "      <td>Utilities</td>\n",
       "      <td>Technology hardware &amp; equipment</td>\n",
       "    </tr>\n",
       "    <tr>\n",
       "      <th>1512</th>\n",
       "      <td>William Hill Org</td>\n",
       "      <td>Hotels restaurants &amp; leisure</td>\n",
       "      <td>Hotels restaurants &amp; leisure</td>\n",
       "      <td>Other</td>\n",
       "    </tr>\n",
       "    <tr>\n",
       "      <th>1687</th>\n",
       "      <td>Genting</td>\n",
       "      <td>Hotels restaurants &amp; leisure</td>\n",
       "      <td>Hotels restaurants &amp; leisure</td>\n",
       "      <td>Conglomerates</td>\n",
       "    </tr>\n",
       "    <tr>\n",
       "      <th>582</th>\n",
       "      <td>WPP</td>\n",
       "      <td>Media</td>\n",
       "      <td>Media</td>\n",
       "      <td>Business services &amp; supplies</td>\n",
       "    </tr>\n",
       "    <tr>\n",
       "      <th>138</th>\n",
       "      <td>Travelers Property Cas</td>\n",
       "      <td>Insurance</td>\n",
       "      <td>Insurance</td>\n",
       "      <td>Drugs &amp; biotechnology</td>\n",
       "    </tr>\n",
       "    <tr>\n",
       "      <th>1692</th>\n",
       "      <td>Toda</td>\n",
       "      <td>Construction</td>\n",
       "      <td>Construction</td>\n",
       "      <td>Other</td>\n",
       "    </tr>\n",
       "    <tr>\n",
       "      <th>589</th>\n",
       "      <td>Lear</td>\n",
       "      <td>Consumer durables</td>\n",
       "      <td>Consumer durables</td>\n",
       "      <td>Other</td>\n",
       "    </tr>\n",
       "    <tr>\n",
       "      <th>1394</th>\n",
       "      <td>Fuji Electric</td>\n",
       "      <td>Capital goods</td>\n",
       "      <td>Capital goods</td>\n",
       "      <td>Technology hardware &amp; equipment</td>\n",
       "    </tr>\n",
       "    <tr>\n",
       "      <th>31</th>\n",
       "      <td>Nestle</td>\n",
       "      <td>Food drink &amp; tobacco</td>\n",
       "      <td>Food drink &amp; tobacco</td>\n",
       "      <td>Conglomerates</td>\n",
       "    </tr>\n",
       "    <tr>\n",
       "      <th>1143</th>\n",
       "      <td>iStar Financial</td>\n",
       "      <td>Diversified financials</td>\n",
       "      <td>Diversified financials</td>\n",
       "      <td>Hotels restaurants &amp; leisure</td>\n",
       "    </tr>\n",
       "    <tr>\n",
       "      <th>958</th>\n",
       "      <td>Mediobanca</td>\n",
       "      <td>Diversified financials</td>\n",
       "      <td>Diversified financials</td>\n",
       "      <td>Banking</td>\n",
       "    </tr>\n",
       "    <tr>\n",
       "      <th>356</th>\n",
       "      <td>Tribune</td>\n",
       "      <td>Media</td>\n",
       "      <td>Media</td>\n",
       "      <td>Other</td>\n",
       "    </tr>\n",
       "    <tr>\n",
       "      <th>1709</th>\n",
       "      <td>Downey Financial</td>\n",
       "      <td>Banking</td>\n",
       "      <td>Banking</td>\n",
       "      <td>Other</td>\n",
       "    </tr>\n",
       "    <tr>\n",
       "      <th>1587</th>\n",
       "      <td>Impac Mortgage Holding</td>\n",
       "      <td>Diversified financials</td>\n",
       "      <td>Diversified financials</td>\n",
       "      <td>Banking</td>\n",
       "    </tr>\n",
       "    <tr>\n",
       "      <th>349</th>\n",
       "      <td>Allianz Worldwide</td>\n",
       "      <td>Insurance</td>\n",
       "      <td>Insurance</td>\n",
       "      <td>Health care equipment &amp; services</td>\n",
       "    </tr>\n",
       "    <tr>\n",
       "      <th>643</th>\n",
       "      <td>Continental</td>\n",
       "      <td>Consumer durables</td>\n",
       "      <td>Consumer durables</td>\n",
       "      <td>Conglomerates</td>\n",
       "    </tr>\n",
       "    <tr>\n",
       "      <th>1832</th>\n",
       "      <td>Salzgitter</td>\n",
       "      <td>Materials</td>\n",
       "      <td>Materials</td>\n",
       "      <td>Other</td>\n",
       "    </tr>\n",
       "    <tr>\n",
       "      <th>1802</th>\n",
       "      <td>CNF</td>\n",
       "      <td>Transportation</td>\n",
       "      <td>Transportation</td>\n",
       "      <td>Other</td>\n",
       "    </tr>\n",
       "    <tr>\n",
       "      <th>276</th>\n",
       "      <td>Mitsui Sumitomo Ins</td>\n",
       "      <td>Insurance</td>\n",
       "      <td>Insurance</td>\n",
       "      <td>Telecommunications services</td>\n",
       "    </tr>\n",
       "    <tr>\n",
       "      <th>531</th>\n",
       "      <td>Nintendo</td>\n",
       "      <td>Consumer durables</td>\n",
       "      <td>Consumer durables</td>\n",
       "      <td>Technology hardware &amp; equipment</td>\n",
       "    </tr>\n",
       "  </tbody>\n",
       "</table>\n",
       "</div>"
      ],
      "text/plain": [
       "                        COMPANY                          CATEGORY  \\\n",
       "568                Pitney Bowes      Business services & supplies   \n",
       "218              Bouygues Group                      Construction   \n",
       "69                      Comcast                             Media   \n",
       "1519                    Kawasho                 Trading companies   \n",
       "1074                     Iberia                    Transportation   \n",
       "1462        SEM-Samsung Electro   Technology hardware & equipment   \n",
       "970           Daikin Industries                     Capital goods   \n",
       "935                  Kobe Steel                         Materials   \n",
       "1314             Level 3 Commun       Telecommunications services   \n",
       "348                         EMC   Technology hardware & equipment   \n",
       "680                      Scania                     Capital goods   \n",
       "764                         AES                         Utilities   \n",
       "1000                  Korea Gas                         Utilities   \n",
       "1177   Hypo Real Estate Holding            Diversified financials   \n",
       "929           Interpublic Group                             Media   \n",
       "1695  Regal Entertainment Group                             Media   \n",
       "614                      Thales               Aerospace & defense   \n",
       "1671                      Bemis                         Materials   \n",
       "440                      Apache              Oil & gas operations   \n",
       "166   Pinault-Printemps-Redoute                         Retailing   \n",
       "515         Assoc British Foods              Food drink & tobacco   \n",
       "1756                     QLogic                    Semiconductors   \n",
       "1785          Service Corp Intl      Business services & supplies   \n",
       "1508               Toyoda Gosei                 Consumer durables   \n",
       "860                   Fresenius  Health care equipment & services   \n",
       "807                      Edison                         Utilities   \n",
       "1512           William Hill Org      Hotels restaurants & leisure   \n",
       "1687                    Genting      Hotels restaurants & leisure   \n",
       "582                         WPP                             Media   \n",
       "138      Travelers Property Cas                         Insurance   \n",
       "1692                       Toda                      Construction   \n",
       "589                        Lear                 Consumer durables   \n",
       "1394              Fuji Electric                     Capital goods   \n",
       "31                       Nestle              Food drink & tobacco   \n",
       "1143            iStar Financial            Diversified financials   \n",
       "958                  Mediobanca            Diversified financials   \n",
       "356                     Tribune                             Media   \n",
       "1709           Downey Financial                           Banking   \n",
       "1587     Impac Mortgage Holding            Diversified financials   \n",
       "349           Allianz Worldwide                         Insurance   \n",
       "643                 Continental                 Consumer durables   \n",
       "1832                 Salzgitter                         Materials   \n",
       "1802                        CNF                    Transportation   \n",
       "276         Mitsui Sumitomo Ins                         Insurance   \n",
       "531                    Nintendo                 Consumer durables   \n",
       "\n",
       "                 PRED_CATEGORY_NO_DESC           PRED_CATEGORY_WITH_DESC  \n",
       "568       Business services & supplies   Technology hardware & equipment  \n",
       "218                       Construction                     Conglomerates  \n",
       "69                               Media       Telecommunications services  \n",
       "1519                 Trading companies                             Media  \n",
       "1074                    Transportation                             Other  \n",
       "1462   Technology hardware & equipment                    Semiconductors  \n",
       "970                      Capital goods   Technology hardware & equipment  \n",
       "935                          Materials                     Conglomerates  \n",
       "1314       Telecommunications services                             Other  \n",
       "348    Technology hardware & equipment                             Other  \n",
       "680                      Capital goods                             Other  \n",
       "764                          Utilities                             Other  \n",
       "1000                         Utilities              Oil & gas operations  \n",
       "1177            Diversified financials                           Banking  \n",
       "929                              Media      Business services & supplies  \n",
       "1695                             Media      Hotels restaurants & leisure  \n",
       "614                Aerospace & defense                             Other  \n",
       "1671                         Materials                             Other  \n",
       "440               Oil & gas operations                             Other  \n",
       "166                          Retailing                     Conglomerates  \n",
       "515               Food drink & tobacco                             Other  \n",
       "1756                    Semiconductors   Technology hardware & equipment  \n",
       "1785      Business services & supplies               Aerospace & defense  \n",
       "1508                 Consumer durables                     Capital goods  \n",
       "860   Health care equipment & services                             Other  \n",
       "807                          Utilities   Technology hardware & equipment  \n",
       "1512      Hotels restaurants & leisure                             Other  \n",
       "1687      Hotels restaurants & leisure                     Conglomerates  \n",
       "582                              Media      Business services & supplies  \n",
       "138                          Insurance             Drugs & biotechnology  \n",
       "1692                      Construction                             Other  \n",
       "589                  Consumer durables                             Other  \n",
       "1394                     Capital goods   Technology hardware & equipment  \n",
       "31                Food drink & tobacco                     Conglomerates  \n",
       "1143            Diversified financials      Hotels restaurants & leisure  \n",
       "958             Diversified financials                           Banking  \n",
       "356                              Media                             Other  \n",
       "1709                           Banking                             Other  \n",
       "1587            Diversified financials                           Banking  \n",
       "349                          Insurance  Health care equipment & services  \n",
       "643                  Consumer durables                     Conglomerates  \n",
       "1832                         Materials                             Other  \n",
       "1802                    Transportation                             Other  \n",
       "276                          Insurance       Telecommunications services  \n",
       "531                  Consumer durables   Technology hardware & equipment  "
      ]
     },
     "execution_count": 29,
     "metadata": {},
     "output_type": "execute_result"
    }
   ],
   "source": [
    "mask = (test_df['PRED_CATEGORY_NO_DESC'] != test_df['PRED_CATEGORY_WITH_DESC']) & (test_df['PRED_CATEGORY_NO_DESC'] != 'n/a') \\\n",
    "    & (test_df['PRED_CATEGORY_NO_DESC'] == test_df['CATEGORY'])\n",
    "\n",
    "test_df[mask]"
   ]
  },
  {
   "cell_type": "code",
   "execution_count": 32,
   "id": "07817c19",
   "metadata": {},
   "outputs": [
    {
     "name": "stdout",
     "output_type": "stream",
     "text": [
      "[Fallback] Searching for: Bouygues Group\n",
      "Bouygues S.A. (French pronunciation: [bwiɡ]) is a French engineering group headquartered in the 8th arrondissement of Paris, France. Bouygues is listed on the Euronext Paris exchange and is a blue chip in the CAC 40 stock market index. The company was founded in 1952 by Francis Bouygues and has been led by his son Martin Bouygues since 1989. Martin's older brother, Olivier Bouygues, is a board member.\n",
      "The group specialises in construction (Colas Group and Bouygues Construction), real estate development (Bouygues Immobilier), media (TF1 Group), and telecommunications (Bouygues Telecom).\n"
     ]
    }
   ],
   "source": [
    "print(wiki_intro(\"Bouygues Group\"))"
   ]
  },
  {
   "cell_type": "markdown",
   "id": "5319b95e",
   "metadata": {},
   "source": [
    "How much can we trust the labels? For some cases there is ambiguity. `Bouygues Group` description from Wikipedia says that it is a conglomerate."
   ]
  },
  {
   "cell_type": "code",
   "execution_count": 31,
   "id": "b449eebe",
   "metadata": {},
   "outputs": [
    {
     "name": "stdout",
     "output_type": "stream",
     "text": [
      "Comcast Corporation, formerly known as Comcast Holdings, is an American multinational mass media corporation that works in telecommunications and entertainment. It is headquartered at the Comcast Center in Philadelphia. Comcast is the third-largest broadcasting and cable television company worldwide by revenue (behind China Mobile and Verizon). It is the third-largest pay-TV company, the second-largest cable TV company by subscribers, and the largest home Internet service provider in the United States. In 2023, the company was ranked 51st in the Forbes Global 2000.\n",
      "Comcast is additionally the nation's third-largest home telephone service provider. It provides services to U.S. residential and commercial customers in 40 states and the District of Columbia. As the owner of NBCUniversal since 2013, Comcast is also a high-volume producer of films for theatrical exhibition and television programming, and a theme parks operator. It is the fourth-largest telecommunications company by worldwide revenue.  Comcast owns and operates the Xfinity residential cable communications business segment and division; Comcast Business, a commercial services provider; and Xfinity Mobile, an MVNO of Verizon Communications.\n",
      "Comcast is also the owner and operator of over-the-air national broadcast network channels through NBCUniversal, such as the National Broadcasting Company (one of the US' Big Three television networks), Spanish-language channels Telemundo, TeleXitos, and Universo, television stations like Cozi TV, multiple cable-only channels such as MSNBC, CNBC, USA Network, Syfy, Oxygen True Crime, Bravo, and E!, film studios Universal Pictures, DreamWorks Animation, Illumination and Focus Features, the Universal Studio Group, the VOD streaming service Peacock, and Universal Destinations & Experiences. It also has significant holdings in digital distribution, such as thePlatform, which it acquired in 2006; and ad-tech company FreeWheel, which it acquired in 2014. NBCUniversal also works in news (NBC News and Noticias Telemundo) and sports (NBC Sports and Telemundo Deportes) areas, with Comcast acquiring professional sports company Spectacor in 1996. Since October 2018, Comcast is also the parent company of Sky Group after dropping out of the bid to buy 21st Century Fox, and instead acquired the stake 21CF owned, plus the rest of Sky.\n",
      "Comcast is criticized and put under intense public scrutiny for a variety of reasons. Its customer satisfaction ratings were among the lowest in the cable industry during the years 2008–2010. It has violated net neutrality practices in the past and despite its commitment to a narrow definition of net neutrality, critics advocate a definition that precludes any distinction between Comcast's private network services and the rest of the Internet. Critics also point out a lack of competition in the vast majority of Comcast's service areas; in particular, the limited competition among cable providers. Given its negotiating power as a large ISP, some suspect that it could leverage paid peering agreements to unfairly influence end-user connection speeds. Its ownership of both content production (in NBCUniversal) and distribution (as an ISP) has raised antitrust concerns. These issues and others led to Comcast being dubbed \"The Worst Company in America\" by The Consumerist in 2010 and 2014. Comcast also failed to acquire Time Warner Cable in 2014.\n"
     ]
    }
   ],
   "source": [
    "print(wiki_intro(\"Comcast\"))"
   ]
  },
  {
   "cell_type": "markdown",
   "id": "bfd4b038",
   "metadata": {},
   "source": [
    "Same as the above case - here it explicitly says that it is a telecommunications company."
   ]
  },
  {
   "cell_type": "code",
   "execution_count": null,
   "id": "b7b41010",
   "metadata": {},
   "outputs": [],
   "source": [
    "def plot_confusion_matrix(y_true, y_pred, categories, normalize=True):\n",
    "    cm = confusion_matrix(y_true, y_pred, labels=categories)\n",
    "    \n",
    "    # normalize -> percentages\n",
    "    if normalize:\n",
    "        cm = cm.astype('float') / cm.sum(axis=1, keepdims=True)\n",
    "        cm = np.nan_to_num(cm) * 100  # now in [0,100]\n",
    "    \n",
    "    fig, ax = plt.subplots(figsize=(15, 12))\n",
    "    \n",
    "\n",
    "    disp = ConfusionMatrixDisplay(confusion_matrix=cm, display_labels=categories)\n",
    "    disp.plot(cmap=plt.cm.Blues, ax=ax, values_format=\".1f\")\n",
    "\n",
    "    plt.xticks(rotation=45, ha='right')\n",
    "    plt.yticks(rotation=0)\n",
    "    plt.grid(False)\n",
    "    ax.set_title(\"Normalized Confusion Matrix (%)\" if normalize else \"Confusion Matrix\", fontsize=16)\n",
    "    plt.tight_layout()\n",
    "    \n",
    "categories = pd.read_csv(\"../resources/categories.csv\")['CATEGORY'].unique().tolist()\n",
    "plot_confusion_matrix(test_df['CATEGORY'], test_df['PRED_CATEGORY_NO_DESC'], categories, normalize=True)\n",
    "plt.savefig(\"../resources/confusion_matrix_no_desc.svg\", dpi=300, bbox_inches='tight')"
   ]
  },
  {
   "cell_type": "code",
   "execution_count": 39,
   "id": "9a4dcf92",
   "metadata": {},
   "outputs": [],
   "source": [
    "cm = confusion_matrix(test_df['CATEGORY'], test_df['PRED_CATEGORY_NO_DESC'], labels=categories)\n",
    "cm = cm.astype('float') / cm.sum(axis=1, keepdims=True)\n",
    "cm = np.nan_to_num(cm) * 100  # now in [0,100]\n",
    "# find most confused categories\n",
    "confused_categories = []\n",
    "for i in range(len(categories)):\n",
    "    for j in range(len(categories)):\n",
    "        if i != j and cm[i, j] > 0:\n",
    "            confused_categories.append((categories[i], categories[j], cm[i, j]))"
   ]
  },
  {
   "cell_type": "code",
   "execution_count": 40,
   "id": "f55b588c",
   "metadata": {},
   "outputs": [
    {
     "data": {
      "text/plain": [
       "[('Business services & supplies', 'Technology hardware & equipment', 40.0),\n",
       " ('Trading companies', 'Conglomerates', 40.0),\n",
       " ('Household & personal products', 'Consumer durables', 33.33333333333333),\n",
       " ('Food markets', 'Retailing', 28.57142857142857),\n",
       " ('Conglomerates', 'Capital goods', 25.0),\n",
       " ('Conglomerates', 'Aerospace & defense', 25.0),\n",
       " ('Technology hardware & equipment', 'Telecommunications services', 20.0),\n",
       " ('Trading companies', 'Retailing', 20.0),\n",
       " ('Construction', 'Materials', 17.647058823529413),\n",
       " ('Software & services', 'Business services & supplies', 16.666666666666664)]"
      ]
     },
     "execution_count": 40,
     "metadata": {},
     "output_type": "execute_result"
    }
   ],
   "source": [
    "confused_categories = sorted(confused_categories, key=lambda x: x[2], reverse=True)\n",
    "confused_categories[:10]"
   ]
  },
  {
   "cell_type": "code",
   "execution_count": null,
   "id": "f4dcc0e9",
   "metadata": {},
   "outputs": [],
   "source": [
    "test_df.to_csv(\"../resources/dataset_with_predictions.csv\", index=False)"
   ]
  }
 ],
 "metadata": {
  "kernelspec": {
   "display_name": "celtra",
   "language": "python",
   "name": "python3"
  },
  "language_info": {
   "codemirror_mode": {
    "name": "ipython",
    "version": 3
   },
   "file_extension": ".py",
   "mimetype": "text/x-python",
   "name": "python",
   "nbconvert_exporter": "python",
   "pygments_lexer": "ipython3",
   "version": "3.11.5"
  }
 },
 "nbformat": 4,
 "nbformat_minor": 5
}
