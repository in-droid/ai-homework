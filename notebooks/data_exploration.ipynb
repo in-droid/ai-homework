{
 "cells": [
  {
   "cell_type": "code",
   "execution_count": 2,
   "id": "cea0c547",
   "metadata": {},
   "outputs": [],
   "source": [
    "import os\n",
    "\n",
    "\n",
    "import pandas as pd\n",
    "import numpy as np\n",
    "import matplotlib.pyplot as plt\n",
    "import seaborn as sns\n",
    "sns.set_style(\"whitegrid\")"
   ]
  },
  {
   "cell_type": "code",
   "execution_count": 3,
   "id": "8cbc6b89",
   "metadata": {},
   "outputs": [],
   "source": [
    "CATEGORIES_PATH = \"../resources/categories.csv\"\n",
    "DATASET_PATH = \"../resources/dataset.csv\"\n",
    "\n",
    "categories = pd.read_csv(CATEGORIES_PATH)\n",
    "dataset = pd.read_csv(DATASET_PATH)"
   ]
  },
  {
   "cell_type": "code",
   "execution_count": 4,
   "id": "f50c689b",
   "metadata": {},
   "outputs": [
    {
     "data": {
      "application/vnd.microsoft.datawrangler.viewer.v0+json": {
       "columns": [
        {
         "name": "index",
         "rawType": "int64",
         "type": "integer"
        },
        {
         "name": "CATEGORY",
         "rawType": "object",
         "type": "string"
        }
       ],
       "conversionMethod": "pd.DataFrame",
       "ref": "c552dead-a284-47a6-bedc-a56aca8b4d7b",
       "rows": [
        [
         "0",
         "Technology hardware & equipment"
        ],
        [
         "1",
         "Food drink & tobacco"
        ],
        [
         "2",
         "Construction"
        ],
        [
         "3",
         "Health care equipment & services"
        ],
        [
         "4",
         "Conglomerates"
        ],
        [
         "5",
         "Capital goods"
        ],
        [
         "6",
         "Retailing"
        ],
        [
         "7",
         "Utilities"
        ],
        [
         "8",
         "Food markets"
        ],
        [
         "9",
         "Aerospace & defense"
        ],
        [
         "10",
         "Materials"
        ],
        [
         "11",
         "Banking"
        ],
        [
         "12",
         "Oil & gas operations"
        ],
        [
         "13",
         "Business services & supplies"
        ],
        [
         "14",
         "Insurance"
        ],
        [
         "15",
         "Semiconductors"
        ],
        [
         "16",
         "Trading companies"
        ],
        [
         "17",
         "Diversified financials"
        ],
        [
         "18",
         "Drugs & biotechnology"
        ],
        [
         "19",
         "Telecommunications services"
        ],
        [
         "20",
         "Software & services"
        ],
        [
         "21",
         "Household & personal products"
        ],
        [
         "22",
         "Hotels restaurants & leisure"
        ],
        [
         "23",
         "Transportation"
        ],
        [
         "24",
         "Consumer durables"
        ],
        [
         "25",
         "Media"
        ],
        [
         "26",
         "Chemicals"
        ]
       ],
       "shape": {
        "columns": 1,
        "rows": 27
       }
      },
      "text/html": [
       "<div>\n",
       "<style scoped>\n",
       "    .dataframe tbody tr th:only-of-type {\n",
       "        vertical-align: middle;\n",
       "    }\n",
       "\n",
       "    .dataframe tbody tr th {\n",
       "        vertical-align: top;\n",
       "    }\n",
       "\n",
       "    .dataframe thead th {\n",
       "        text-align: right;\n",
       "    }\n",
       "</style>\n",
       "<table border=\"1\" class=\"dataframe\">\n",
       "  <thead>\n",
       "    <tr style=\"text-align: right;\">\n",
       "      <th></th>\n",
       "      <th>CATEGORY</th>\n",
       "    </tr>\n",
       "  </thead>\n",
       "  <tbody>\n",
       "    <tr>\n",
       "      <th>0</th>\n",
       "      <td>Technology hardware &amp; equipment</td>\n",
       "    </tr>\n",
       "    <tr>\n",
       "      <th>1</th>\n",
       "      <td>Food drink &amp; tobacco</td>\n",
       "    </tr>\n",
       "    <tr>\n",
       "      <th>2</th>\n",
       "      <td>Construction</td>\n",
       "    </tr>\n",
       "    <tr>\n",
       "      <th>3</th>\n",
       "      <td>Health care equipment &amp; services</td>\n",
       "    </tr>\n",
       "    <tr>\n",
       "      <th>4</th>\n",
       "      <td>Conglomerates</td>\n",
       "    </tr>\n",
       "    <tr>\n",
       "      <th>5</th>\n",
       "      <td>Capital goods</td>\n",
       "    </tr>\n",
       "    <tr>\n",
       "      <th>6</th>\n",
       "      <td>Retailing</td>\n",
       "    </tr>\n",
       "    <tr>\n",
       "      <th>7</th>\n",
       "      <td>Utilities</td>\n",
       "    </tr>\n",
       "    <tr>\n",
       "      <th>8</th>\n",
       "      <td>Food markets</td>\n",
       "    </tr>\n",
       "    <tr>\n",
       "      <th>9</th>\n",
       "      <td>Aerospace &amp; defense</td>\n",
       "    </tr>\n",
       "    <tr>\n",
       "      <th>10</th>\n",
       "      <td>Materials</td>\n",
       "    </tr>\n",
       "    <tr>\n",
       "      <th>11</th>\n",
       "      <td>Banking</td>\n",
       "    </tr>\n",
       "    <tr>\n",
       "      <th>12</th>\n",
       "      <td>Oil &amp; gas operations</td>\n",
       "    </tr>\n",
       "    <tr>\n",
       "      <th>13</th>\n",
       "      <td>Business services &amp; supplies</td>\n",
       "    </tr>\n",
       "    <tr>\n",
       "      <th>14</th>\n",
       "      <td>Insurance</td>\n",
       "    </tr>\n",
       "    <tr>\n",
       "      <th>15</th>\n",
       "      <td>Semiconductors</td>\n",
       "    </tr>\n",
       "    <tr>\n",
       "      <th>16</th>\n",
       "      <td>Trading companies</td>\n",
       "    </tr>\n",
       "    <tr>\n",
       "      <th>17</th>\n",
       "      <td>Diversified financials</td>\n",
       "    </tr>\n",
       "    <tr>\n",
       "      <th>18</th>\n",
       "      <td>Drugs &amp; biotechnology</td>\n",
       "    </tr>\n",
       "    <tr>\n",
       "      <th>19</th>\n",
       "      <td>Telecommunications services</td>\n",
       "    </tr>\n",
       "    <tr>\n",
       "      <th>20</th>\n",
       "      <td>Software &amp; services</td>\n",
       "    </tr>\n",
       "    <tr>\n",
       "      <th>21</th>\n",
       "      <td>Household &amp; personal products</td>\n",
       "    </tr>\n",
       "    <tr>\n",
       "      <th>22</th>\n",
       "      <td>Hotels restaurants &amp; leisure</td>\n",
       "    </tr>\n",
       "    <tr>\n",
       "      <th>23</th>\n",
       "      <td>Transportation</td>\n",
       "    </tr>\n",
       "    <tr>\n",
       "      <th>24</th>\n",
       "      <td>Consumer durables</td>\n",
       "    </tr>\n",
       "    <tr>\n",
       "      <th>25</th>\n",
       "      <td>Media</td>\n",
       "    </tr>\n",
       "    <tr>\n",
       "      <th>26</th>\n",
       "      <td>Chemicals</td>\n",
       "    </tr>\n",
       "  </tbody>\n",
       "</table>\n",
       "</div>"
      ],
      "text/plain": [
       "                            CATEGORY\n",
       "0    Technology hardware & equipment\n",
       "1               Food drink & tobacco\n",
       "2                       Construction\n",
       "3   Health care equipment & services\n",
       "4                      Conglomerates\n",
       "5                      Capital goods\n",
       "6                          Retailing\n",
       "7                          Utilities\n",
       "8                       Food markets\n",
       "9                Aerospace & defense\n",
       "10                         Materials\n",
       "11                           Banking\n",
       "12              Oil & gas operations\n",
       "13      Business services & supplies\n",
       "14                         Insurance\n",
       "15                    Semiconductors\n",
       "16                 Trading companies\n",
       "17            Diversified financials\n",
       "18             Drugs & biotechnology\n",
       "19       Telecommunications services\n",
       "20               Software & services\n",
       "21     Household & personal products\n",
       "22      Hotels restaurants & leisure\n",
       "23                    Transportation\n",
       "24                 Consumer durables\n",
       "25                             Media\n",
       "26                         Chemicals"
      ]
     },
     "execution_count": 4,
     "metadata": {},
     "output_type": "execute_result"
    }
   ],
   "source": [
    "categories"
   ]
  },
  {
   "cell_type": "code",
   "execution_count": 5,
   "id": "d1041a9d",
   "metadata": {},
   "outputs": [
    {
     "data": {
      "text/plain": [
       "(2000, 27)"
      ]
     },
     "execution_count": 5,
     "metadata": {},
     "output_type": "execute_result"
    }
   ],
   "source": [
    "len(dataset), len(categories)"
   ]
  },
  {
   "cell_type": "code",
   "execution_count": 6,
   "id": "967bac43",
   "metadata": {},
   "outputs": [
    {
     "data": {
      "application/vnd.microsoft.datawrangler.viewer.v0+json": {
       "columns": [
        {
         "name": "index",
         "rawType": "int64",
         "type": "integer"
        },
        {
         "name": "COMPANY",
         "rawType": "object",
         "type": "string"
        },
        {
         "name": "CATEGORY",
         "rawType": "object",
         "type": "string"
        }
       ],
       "conversionMethod": "pd.DataFrame",
       "ref": "a1ddd13d-6a4f-45a0-89c3-7291840a4dbd",
       "rows": [
        [
         "0",
         "Citigroup",
         "Banking"
        ],
        [
         "1",
         "General Electric",
         "Conglomerates"
        ],
        [
         "2",
         "American Intl Group",
         "Insurance"
        ],
        [
         "3",
         "ExxonMobil",
         "Oil & gas operations"
        ],
        [
         "4",
         "BP",
         "Oil & gas operations"
        ],
        [
         "5",
         "Bank of America",
         "Banking"
        ],
        [
         "6",
         "HSBC Group",
         "Banking"
        ],
        [
         "7",
         "Toyota Motor",
         "Consumer durables"
        ],
        [
         "8",
         "Fannie Mae",
         "Diversified financials"
        ],
        [
         "9",
         "Wal-Mart Stores",
         "Retailing"
        ],
        [
         "10",
         "UBS",
         "Diversified financials"
        ],
        [
         "11",
         "ING Group",
         "Diversified financials"
        ],
        [
         "12",
         "Royal Dutch/Shell Group",
         "Oil & gas operations"
        ],
        [
         "13",
         "Berkshire Hathaway",
         "Insurance"
        ],
        [
         "14",
         "JP Morgan Chase",
         "Banking"
        ],
        [
         "15",
         "IBM",
         "Technology hardware & equipment"
        ],
        [
         "16",
         "Total",
         "Oil & gas operations"
        ],
        [
         "17",
         "BNP Paribas",
         "Banking"
        ],
        [
         "18",
         "Royal Bank of Scotland",
         "Banking"
        ],
        [
         "19",
         "Freddie Mac",
         "Diversified financials"
        ],
        [
         "20",
         "DaimlerChrysler",
         "Consumer durables"
        ],
        [
         "21",
         "Altria Group",
         "Food drink & tobacco"
        ],
        [
         "22",
         "ChevronTexaco",
         "Oil & gas operations"
        ],
        [
         "23",
         "Pfizer",
         "Drugs & biotechnology"
        ],
        [
         "24",
         "Wells Fargo",
         "Banking"
        ],
        [
         "25",
         "Verizon Commun",
         "Telecommunications services"
        ],
        [
         "26",
         "Barclays",
         "Banking"
        ],
        [
         "27",
         "Morgan Stanley",
         "Diversified financials"
        ],
        [
         "28",
         "General Motors",
         "Consumer durables"
        ],
        [
         "29",
         "Nippon Tel & Tel",
         "Telecommunications services"
        ],
        [
         "30",
         "Microsoft",
         "Software & services"
        ],
        [
         "31",
         "Nestle",
         "Food drink & tobacco"
        ],
        [
         "32",
         "SBC Communications",
         "Telecommunications services"
        ],
        [
         "33",
         "Deutsche Bank Group",
         "Diversified financials"
        ],
        [
         "34",
         "Siemens Group",
         "Conglomerates"
        ],
        [
         "35",
         "HBOS",
         "Banking"
        ],
        [
         "36",
         "ENI",
         "Oil & gas operations"
        ],
        [
         "37",
         "ConocoPhillips",
         "Oil & gas operations"
        ],
        [
         "38",
         "Banco Santander Central",
         "Banking"
        ],
        [
         "39",
         "Merrill Lynch",
         "Diversified financials"
        ],
        [
         "40",
         "Wachovia",
         "Banking"
        ],
        [
         "41",
         "Time Warner",
         "Media"
        ],
        [
         "42",
         "Hewlett-Packard",
         "Technology hardware & equipment"
        ],
        [
         "43",
         "Procter & Gamble",
         "Household & personal products"
        ],
        [
         "44",
         "Samsung Electronics",
         "Semiconductors"
        ],
        [
         "45",
         "Johnson & Johnson",
         "Drugs & biotechnology"
        ],
        [
         "46",
         "Lloyds TSB Group",
         "Banking"
        ],
        [
         "47",
         "ABN-Amro Holding",
         "Banking"
        ],
        [
         "48",
         "Honda Motor",
         "Consumer durables"
        ],
        [
         "49",
         "American Express",
         "Diversified financials"
        ]
       ],
       "shape": {
        "columns": 2,
        "rows": 2000
       }
      },
      "text/html": [
       "<div>\n",
       "<style scoped>\n",
       "    .dataframe tbody tr th:only-of-type {\n",
       "        vertical-align: middle;\n",
       "    }\n",
       "\n",
       "    .dataframe tbody tr th {\n",
       "        vertical-align: top;\n",
       "    }\n",
       "\n",
       "    .dataframe thead th {\n",
       "        text-align: right;\n",
       "    }\n",
       "</style>\n",
       "<table border=\"1\" class=\"dataframe\">\n",
       "  <thead>\n",
       "    <tr style=\"text-align: right;\">\n",
       "      <th></th>\n",
       "      <th>COMPANY</th>\n",
       "      <th>CATEGORY</th>\n",
       "    </tr>\n",
       "  </thead>\n",
       "  <tbody>\n",
       "    <tr>\n",
       "      <th>0</th>\n",
       "      <td>Citigroup</td>\n",
       "      <td>Banking</td>\n",
       "    </tr>\n",
       "    <tr>\n",
       "      <th>1</th>\n",
       "      <td>General Electric</td>\n",
       "      <td>Conglomerates</td>\n",
       "    </tr>\n",
       "    <tr>\n",
       "      <th>2</th>\n",
       "      <td>American Intl Group</td>\n",
       "      <td>Insurance</td>\n",
       "    </tr>\n",
       "    <tr>\n",
       "      <th>3</th>\n",
       "      <td>ExxonMobil</td>\n",
       "      <td>Oil &amp; gas operations</td>\n",
       "    </tr>\n",
       "    <tr>\n",
       "      <th>4</th>\n",
       "      <td>BP</td>\n",
       "      <td>Oil &amp; gas operations</td>\n",
       "    </tr>\n",
       "    <tr>\n",
       "      <th>...</th>\n",
       "      <td>...</td>\n",
       "      <td>...</td>\n",
       "    </tr>\n",
       "    <tr>\n",
       "      <th>1995</th>\n",
       "      <td>Siam City Bank</td>\n",
       "      <td>Banking</td>\n",
       "    </tr>\n",
       "    <tr>\n",
       "      <th>1996</th>\n",
       "      <td>Yokogawa Electric</td>\n",
       "      <td>Business services &amp; supplies</td>\n",
       "    </tr>\n",
       "    <tr>\n",
       "      <th>1997</th>\n",
       "      <td>Hindalco Industries</td>\n",
       "      <td>Materials</td>\n",
       "    </tr>\n",
       "    <tr>\n",
       "      <th>1998</th>\n",
       "      <td>Nexans</td>\n",
       "      <td>Capital goods</td>\n",
       "    </tr>\n",
       "    <tr>\n",
       "      <th>1999</th>\n",
       "      <td>Oriental Bank of Commerce</td>\n",
       "      <td>Banking</td>\n",
       "    </tr>\n",
       "  </tbody>\n",
       "</table>\n",
       "<p>2000 rows × 2 columns</p>\n",
       "</div>"
      ],
      "text/plain": [
       "                        COMPANY                      CATEGORY\n",
       "0                     Citigroup                       Banking\n",
       "1              General Electric                 Conglomerates\n",
       "2           American Intl Group                     Insurance\n",
       "3                    ExxonMobil          Oil & gas operations\n",
       "4                            BP          Oil & gas operations\n",
       "...                         ...                           ...\n",
       "1995             Siam City Bank                       Banking\n",
       "1996          Yokogawa Electric  Business services & supplies\n",
       "1997        Hindalco Industries                     Materials\n",
       "1998                     Nexans                 Capital goods\n",
       "1999  Oriental Bank of Commerce                       Banking\n",
       "\n",
       "[2000 rows x 2 columns]"
      ]
     },
     "execution_count": 6,
     "metadata": {},
     "output_type": "execute_result"
    }
   ],
   "source": [
    "dataset"
   ]
  },
  {
   "cell_type": "code",
   "execution_count": 7,
   "id": "bc7c58ef",
   "metadata": {},
   "outputs": [
    {
     "data": {
      "text/plain": [
       "(2000, 27)"
      ]
     },
     "execution_count": 7,
     "metadata": {},
     "output_type": "execute_result"
    }
   ],
   "source": [
    "len(dataset['COMPANY'].unique()), len(dataset['CATEGORY'].unique())"
   ]
  },
  {
   "cell_type": "code",
   "execution_count": 9,
   "id": "477f2be2",
   "metadata": {},
   "outputs": [
    {
     "data": {
      "image/png": "[encoded data removed]",
      "text/plain": [
       "<Figure size 1000x800 with 1 Axes>"
      ]
     },
     "metadata": {},
     "output_type": "display_data"
    }
   ],
   "source": [
    "value_counts = dataset['CATEGORY'].value_counts(dropna=False).iloc[::-1]\n",
    "\n",
    "\n",
    "ax = value_counts.plot(kind='barh', figsize=(10, 8), title='Category Distribution')\n",
    "\n",
    "plt.xlabel('Count')\n",
    "plt.ylabel('Category')\n",
    "\n",
    "# Add text labels to the right of the bars\n",
    "for i, v in enumerate(value_counts):\n",
    "    ax.text(v + max(value_counts)*0.01, i, str(v), va='center')\n",
    "\n",
    "plt.tight_layout()\n",
    "plt.savefig('../img/category_distribution.svg', dpi=300)\n",
    "plt.show()"
   ]
  },
  {
   "cell_type": "markdown",
   "id": "248a71cb",
   "metadata": {},
   "source": [
    "Based on the above the best that would work is an LLM (ChatGPT, LLama, Qwen etc) with some google search help if needed.\n",
    "Other thing that we can do is train a bert model to predict based on the description - I do not think that is a good way as the classes are imbalanced and it would be easy to overfit. Maybe extract features based on the google search. See if we can handle random names! Maybe add other class or simply some threshold on the confidence?\n",
    "- https://chatgpt.com/c/680622ce-ecd4-800e-b93a-f5f0611eb423\n",
    "- https://ai.google.dev/gemini-api/docs/pricing"
   ]
  },
  {
   "cell_type": "code",
   "execution_count": null,
   "id": "efd7cde2",
   "metadata": {},
   "outputs": [],
   "source": []
  },
  {
   "cell_type": "code",
   "execution_count": null,
   "id": "921851ea",
   "metadata": {},
   "outputs": [],
   "source": []
  }
 ],
 "metadata": {
  "kernelspec": {
   "display_name": "celtra",
   "language": "python",
   "name": "python3"
  },
  "language_info": {
   "codemirror_mode": {
    "name": "ipython",
    "version": 3
   },
   "file_extension": ".py",
   "mimetype": "text/x-python",
   "name": "python",
   "nbconvert_exporter": "python",
   "pygments_lexer": "ipython3",
   "version": "3.11.5"
  }
 },
 "nbformat": 4,
 "nbformat_minor": 5
}
